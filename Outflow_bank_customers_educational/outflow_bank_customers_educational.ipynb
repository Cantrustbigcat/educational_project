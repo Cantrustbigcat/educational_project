{
 "cells": [
  {
   "cell_type": "markdown",
   "metadata": {},
   "source": [
    "# Модель для прогнозирования оттока клиентов"
   ]
  },
  {
   "cell_type": "markdown",
   "metadata": {},
   "source": [
    "Согласно вводным данным заказчика все больше клиентов прекращают пользоваться предоставляемыми банковскими услугами. Маркетологи заказчика посчитали, что сохранять текущих клиентов дешевле, чем привлекать новых.\n",
    "\n",
    "В связи с этим перед нами поставлена задача сгенерировать модель которая будет предсказывать: уйдёт клиент из банка в ближайшее время или нет.\n",
    "\n",
    "В рамках проекта предоставлены исторические данные о поведении клиентов и расторжении договоров с банком.  \n",
    "\n",
    "Источник данных: [https://www.kaggle.com/barelydedicated/bank-customer-churn-modeling](https://www.kaggle.com/barelydedicated/bank-customer-churn-modeling)\n",
    "\n",
    "**Признаки:**\n",
    "- RowNumber — индекс строки в данных\n",
    "- CustomerId — уникальный идентификатор клиента\n",
    "- Surname — фамилия\n",
    "- CreditScore — кредитный рейтинг\n",
    "- Geography — страна проживания\n",
    "- Gender — пол\n",
    "- Age — возраст\n",
    "- Tenure — сколько лет человек является клиентом банка\n",
    "- Balance — баланс на счёте\n",
    "- NumOfProducts — количество продуктов банка, используемых клиентом\n",
    "- HasCrCard — наличие кредитной карты\n",
    "- IsActiveMember — активность клиента\n",
    "- EstimatedSalary — предполагаемая зарплата\n",
    "\n",
    "\n",
    "**Целевой признак:** Exited — факт ухода клиента"
   ]
  },
  {
   "cell_type": "markdown",
   "metadata": {
    "toc": true
   },
   "source": [
    "<h1>Содержание<span class=\"tocSkip\"></span></h1>\n",
    "<div class=\"toc\"><ul class=\"toc-item\"><li><span><a href=\"#Подготовка-данных\" data-toc-modified-id=\"Подготовка-данных-1\"><span class=\"toc-item-num\">1&nbsp;&nbsp;</span>Подготовка данных</a></span><ul class=\"toc-item\"><li><span><a href=\"#Импорт-библиотек\" data-toc-modified-id=\"Импорт-библиотек-1.1\"><span class=\"toc-item-num\">1.1&nbsp;&nbsp;</span>Импорт библиотек</a></span></li><li><span><a href=\"#Сохраняем-данные-в-переменную\" data-toc-modified-id=\"Сохраняем-данные-в-переменную-1.2\"><span class=\"toc-item-num\">1.2&nbsp;&nbsp;</span>Сохраняем данные в переменную</a></span></li><li><span><a href=\"#Проводим-первичное-исследование-на-предмет-наличия-пропусков,-дубликатов\" data-toc-modified-id=\"Проводим-первичное-исследование-на-предмет-наличия-пропусков,-дубликатов-1.3\"><span class=\"toc-item-num\">1.3&nbsp;&nbsp;</span>Проводим первичное исследование на предмет наличия пропусков, дубликатов</a></span><ul class=\"toc-item\"><li><span><a href=\"#Ставим-заглушку-в-виде-новой-категории--1.-Пропуски-могут-носить-как-технический-характер,-так-и-указывать-на-новых-клиентов.\" data-toc-modified-id=\"Ставим-заглушку-в-виде-новой-категории--1.-Пропуски-могут-носить-как-технический-характер,-так-и-указывать-на-новых-клиентов.-1.3.1\"><span class=\"toc-item-num\">1.3.1&nbsp;&nbsp;</span>Ставим заглушку в виде новой категории -1. Пропуски могут носить как технический характер, так и указывать на новых клиентов.</a></span></li></ul></li><li><span><a href=\"#Проверим-на-дубликаты\" data-toc-modified-id=\"Проверим-на-дубликаты-1.4\"><span class=\"toc-item-num\">1.4&nbsp;&nbsp;</span>Проверим на дубликаты</a></span></li><li><span><a href=\"#Посмотрим-подробнее,-какие-данные-есть-в-датафрейме\" data-toc-modified-id=\"Посмотрим-подробнее,-какие-данные-есть-в-датафрейме-1.5\"><span class=\"toc-item-num\">1.5&nbsp;&nbsp;</span>Посмотрим подробнее, какие данные есть в датафрейме</a></span></li><li><span><a href=\"#Прибегаем-к-прямому-кодированию-и-устраняем-дамми-ловушку\" data-toc-modified-id=\"Прибегаем-к-прямому-кодированию-и-устраняем-дамми-ловушку-1.6\"><span class=\"toc-item-num\">1.6&nbsp;&nbsp;</span>Прибегаем к прямому кодированию и устраняем дамми-ловушку</a></span></li><li><span><a href=\"#Делим-выборки-на-обучающую,-валидационную-и-тестовую.-Без-учета-дисбаланса-данных\" data-toc-modified-id=\"Делим-выборки-на-обучающую,-валидационную-и-тестовую.-Без-учета-дисбаланса-данных-1.7\"><span class=\"toc-item-num\">1.7&nbsp;&nbsp;</span>Делим выборки на обучающую, валидационную и тестовую. Без учета дисбаланса данных</a></span></li></ul></li><li><span><a href=\"#Исследование-задачи\" data-toc-modified-id=\"Исследование-задачи-2\"><span class=\"toc-item-num\">2&nbsp;&nbsp;</span>Исследование задачи</a></span><ul class=\"toc-item\"><li><span><a href=\"#Проверяем-баланс-классов\" data-toc-modified-id=\"Проверяем-баланс-классов-2.1\"><span class=\"toc-item-num\">2.1&nbsp;&nbsp;</span>Проверяем баланс классов</a></span></li><li><span><a href=\"#Модель-решающего-дерева\" data-toc-modified-id=\"Модель-решающего-дерева-2.2\"><span class=\"toc-item-num\">2.2&nbsp;&nbsp;</span>Модель решающего дерева</a></span></li><li><span><a href=\"#Модель-случайного-леса\" data-toc-modified-id=\"Модель-случайного-леса-2.3\"><span class=\"toc-item-num\">2.3&nbsp;&nbsp;</span>Модель случайного леса</a></span></li><li><span><a href=\"#Модель-логистической-регрессии\" data-toc-modified-id=\"Модель-логистической-регрессии-2.4\"><span class=\"toc-item-num\">2.4&nbsp;&nbsp;</span>Модель логистической регрессии</a></span></li></ul></li><li><span><a href=\"#Борьба-с-дисбалансом\" data-toc-modified-id=\"Борьба-с-дисбалансом-3\"><span class=\"toc-item-num\">3&nbsp;&nbsp;</span>Борьба с дисбалансом</a></span><ul class=\"toc-item\"><li><span><a href=\"#Выделим-выборки-с-учетом-дисбаланса-классов,-методом-стратификации\" data-toc-modified-id=\"Выделим-выборки-с-учетом-дисбаланса-классов,-методом-стратификации-3.1\"><span class=\"toc-item-num\">3.1&nbsp;&nbsp;</span>Выделим выборки с учетом дисбаланса классов, методом стратификации</a></span></li><li><span><a href=\"#В-каждой-из-моделей-сбалансируем-0-и-1\" data-toc-modified-id=\"В-каждой-из-моделей-сбалансируем-0-и-1-3.2\"><span class=\"toc-item-num\">3.2&nbsp;&nbsp;</span>В каждой из моделей сбалансируем 0 и 1</a></span><ul class=\"toc-item\"><li><span><a href=\"#Модель-логистической-регрессии\" data-toc-modified-id=\"Модель-логистической-регрессии-3.2.1\"><span class=\"toc-item-num\">3.2.1&nbsp;&nbsp;</span>Модель логистической регрессии</a></span></li><li><span><a href=\"#Модель-решающего-дерева\" data-toc-modified-id=\"Модель-решающего-дерева-3.2.2\"><span class=\"toc-item-num\">3.2.2&nbsp;&nbsp;</span>Модель решающего дерева</a></span></li><li><span><a href=\"#Модель-случайного-леса\" data-toc-modified-id=\"Модель-случайного-леса-3.2.3\"><span class=\"toc-item-num\">3.2.3&nbsp;&nbsp;</span>Модель случайного леса</a></span></li></ul></li></ul></li><li><span><a href=\"#Тестирование-модели\" data-toc-modified-id=\"Тестирование-модели-4\"><span class=\"toc-item-num\">4&nbsp;&nbsp;</span>Тестирование модели</a></span></li></ul></div>"
   ]
  },
  {
   "cell_type": "markdown",
   "metadata": {},
   "source": [
    "## Подготовка данных"
   ]
  },
  {
   "cell_type": "markdown",
   "metadata": {},
   "source": [
    "### Импорт библиотек"
   ]
  },
  {
   "cell_type": "code",
   "execution_count": 1,
   "metadata": {},
   "outputs": [],
   "source": [
    "import pandas as pd\n",
    "import numpy as np\n",
    "import matplotlib.pyplot as plt\n",
    "import os\n",
    "import warnings\n",
    "from sklearn.dummy import DummyClassifier \n",
    "from sklearn.utils import shuffle\n",
    "from sklearn.tree import DecisionTreeClassifier\n",
    "from sklearn.ensemble import RandomForestClassifier\n",
    "from sklearn.linear_model import LogisticRegression\n",
    "from sklearn.model_selection import train_test_split, GridSearchCV\n",
    "from sklearn.preprocessing import OrdinalEncoder, StandardScaler\n",
    "from sklearn.metrics import accuracy_score, balanced_accuracy_score, confusion_matrix, roc_auc_score, roc_curve\n",
    "from sklearn.metrics import f1_score, precision_score,recall_score, make_scorer, classification_report\n",
    "from sklearn.metrics import classification_report, "
   ]
  },
  {
   "cell_type": "markdown",
   "metadata": {},
   "source": [
    "### Сохраняем данные в переменную"
   ]
  },
  {
   "cell_type": "code",
   "execution_count": 2,
   "metadata": {},
   "outputs": [],
   "source": [
    "pth1 = 'C:\\\\Dataset\\\\Churn.csv'\n",
    "pth2 = '/datasets/Churn.csv'\n",
    "# путь в тренажере и на PC\n",
    "\n",
    "if os.path.exists(pth1):\n",
    "    customer_data = pd.read_csv(pth1)\n",
    "elif os.path.exists(pth2):\n",
    "    customer_data = pd.read_csv(pth2)\n",
    "else:\n",
    "    print(\"Check that the path to the dataset is correct\")\n",
    "\n",
    "pd.set_option('display.max_columns', 50)\n",
    "\n",
    "backup = customer_data.copy(deep=True)\n",
    "# На всякий случай пусть будет копия"
   ]
  },
  {
   "cell_type": "markdown",
   "metadata": {},
   "source": [
    "### Проводим первичное исследование на предмет наличия пропусков, дубликатов"
   ]
  },
  {
   "cell_type": "code",
   "execution_count": 3,
   "metadata": {},
   "outputs": [
    {
     "name": "stdout",
     "output_type": "stream",
     "text": [
      "<class 'pandas.core.frame.DataFrame'>\n",
      "RangeIndex: 10000 entries, 0 to 9999\n",
      "Data columns (total 14 columns):\n",
      " #   Column           Non-Null Count  Dtype  \n",
      "---  ------           --------------  -----  \n",
      " 0   RowNumber        10000 non-null  int64  \n",
      " 1   CustomerId       10000 non-null  int64  \n",
      " 2   Surname          10000 non-null  object \n",
      " 3   CreditScore      10000 non-null  int64  \n",
      " 4   Geography        10000 non-null  object \n",
      " 5   Gender           10000 non-null  object \n",
      " 6   Age              10000 non-null  int64  \n",
      " 7   Tenure           9091 non-null   float64\n",
      " 8   Balance          10000 non-null  float64\n",
      " 9   NumOfProducts    10000 non-null  int64  \n",
      " 10  HasCrCard        10000 non-null  int64  \n",
      " 11  IsActiveMember   10000 non-null  int64  \n",
      " 12  EstimatedSalary  10000 non-null  float64\n",
      " 13  Exited           10000 non-null  int64  \n",
      "dtypes: float64(3), int64(8), object(3)\n",
      "memory usage: 1.1+ MB\n"
     ]
    }
   ],
   "source": [
    "customer_data.info()\n",
    "# В данных имеются пропуски. Таких данных 0,09%, так что удалим пропуски. "
   ]
  },
  {
   "cell_type": "code",
   "execution_count": 4,
   "metadata": {},
   "outputs": [
    {
     "data": {
      "text/html": [
       "<div>\n",
       "<style scoped>\n",
       "    .dataframe tbody tr th:only-of-type {\n",
       "        vertical-align: middle;\n",
       "    }\n",
       "\n",
       "    .dataframe tbody tr th {\n",
       "        vertical-align: top;\n",
       "    }\n",
       "\n",
       "    .dataframe thead th {\n",
       "        text-align: right;\n",
       "    }\n",
       "</style>\n",
       "<table border=\"1\" class=\"dataframe\">\n",
       "  <thead>\n",
       "    <tr style=\"text-align: right;\">\n",
       "      <th></th>\n",
       "      <th>RowNumber</th>\n",
       "      <th>CustomerId</th>\n",
       "      <th>Surname</th>\n",
       "      <th>CreditScore</th>\n",
       "      <th>Geography</th>\n",
       "      <th>Gender</th>\n",
       "      <th>Age</th>\n",
       "      <th>Tenure</th>\n",
       "      <th>Balance</th>\n",
       "      <th>NumOfProducts</th>\n",
       "      <th>HasCrCard</th>\n",
       "      <th>IsActiveMember</th>\n",
       "      <th>EstimatedSalary</th>\n",
       "      <th>Exited</th>\n",
       "    </tr>\n",
       "  </thead>\n",
       "  <tbody>\n",
       "    <tr>\n",
       "      <th>9995</th>\n",
       "      <td>9996</td>\n",
       "      <td>15606229</td>\n",
       "      <td>Obijiaku</td>\n",
       "      <td>771</td>\n",
       "      <td>France</td>\n",
       "      <td>Male</td>\n",
       "      <td>39</td>\n",
       "      <td>5.0</td>\n",
       "      <td>0.00</td>\n",
       "      <td>2</td>\n",
       "      <td>1</td>\n",
       "      <td>0</td>\n",
       "      <td>96270.64</td>\n",
       "      <td>0</td>\n",
       "    </tr>\n",
       "    <tr>\n",
       "      <th>9996</th>\n",
       "      <td>9997</td>\n",
       "      <td>15569892</td>\n",
       "      <td>Johnstone</td>\n",
       "      <td>516</td>\n",
       "      <td>France</td>\n",
       "      <td>Male</td>\n",
       "      <td>35</td>\n",
       "      <td>10.0</td>\n",
       "      <td>57369.61</td>\n",
       "      <td>1</td>\n",
       "      <td>1</td>\n",
       "      <td>1</td>\n",
       "      <td>101699.77</td>\n",
       "      <td>0</td>\n",
       "    </tr>\n",
       "    <tr>\n",
       "      <th>9997</th>\n",
       "      <td>9998</td>\n",
       "      <td>15584532</td>\n",
       "      <td>Liu</td>\n",
       "      <td>709</td>\n",
       "      <td>France</td>\n",
       "      <td>Female</td>\n",
       "      <td>36</td>\n",
       "      <td>7.0</td>\n",
       "      <td>0.00</td>\n",
       "      <td>1</td>\n",
       "      <td>0</td>\n",
       "      <td>1</td>\n",
       "      <td>42085.58</td>\n",
       "      <td>1</td>\n",
       "    </tr>\n",
       "    <tr>\n",
       "      <th>9998</th>\n",
       "      <td>9999</td>\n",
       "      <td>15682355</td>\n",
       "      <td>Sabbatini</td>\n",
       "      <td>772</td>\n",
       "      <td>Germany</td>\n",
       "      <td>Male</td>\n",
       "      <td>42</td>\n",
       "      <td>3.0</td>\n",
       "      <td>75075.31</td>\n",
       "      <td>2</td>\n",
       "      <td>1</td>\n",
       "      <td>0</td>\n",
       "      <td>92888.52</td>\n",
       "      <td>1</td>\n",
       "    </tr>\n",
       "    <tr>\n",
       "      <th>9999</th>\n",
       "      <td>10000</td>\n",
       "      <td>15628319</td>\n",
       "      <td>Walker</td>\n",
       "      <td>792</td>\n",
       "      <td>France</td>\n",
       "      <td>Female</td>\n",
       "      <td>28</td>\n",
       "      <td>NaN</td>\n",
       "      <td>130142.79</td>\n",
       "      <td>1</td>\n",
       "      <td>1</td>\n",
       "      <td>0</td>\n",
       "      <td>38190.78</td>\n",
       "      <td>0</td>\n",
       "    </tr>\n",
       "  </tbody>\n",
       "</table>\n",
       "</div>"
      ],
      "text/plain": [
       "      RowNumber  CustomerId    Surname  CreditScore Geography  Gender  Age  \\\n",
       "9995       9996    15606229   Obijiaku          771    France    Male   39   \n",
       "9996       9997    15569892  Johnstone          516    France    Male   35   \n",
       "9997       9998    15584532        Liu          709    France  Female   36   \n",
       "9998       9999    15682355  Sabbatini          772   Germany    Male   42   \n",
       "9999      10000    15628319     Walker          792    France  Female   28   \n",
       "\n",
       "      Tenure    Balance  NumOfProducts  HasCrCard  IsActiveMember  \\\n",
       "9995     5.0       0.00              2          1               0   \n",
       "9996    10.0   57369.61              1          1               1   \n",
       "9997     7.0       0.00              1          0               1   \n",
       "9998     3.0   75075.31              2          1               0   \n",
       "9999     NaN  130142.79              1          1               0   \n",
       "\n",
       "      EstimatedSalary  Exited  \n",
       "9995         96270.64       0  \n",
       "9996        101699.77       0  \n",
       "9997         42085.58       1  \n",
       "9998         92888.52       1  \n",
       "9999         38190.78       0  "
      ]
     },
     "execution_count": 4,
     "metadata": {},
     "output_type": "execute_result"
    }
   ],
   "source": [
    "customer_data.tail()"
   ]
  },
  {
   "cell_type": "markdown",
   "metadata": {},
   "source": [
    "#### Ставим заглушку в виде новой категории -1. Пропуски могут носить как технический характер, так и указывать на новых клиентов."
   ]
  },
  {
   "cell_type": "code",
   "execution_count": 6,
   "metadata": {},
   "outputs": [
    {
     "name": "stdout",
     "output_type": "stream",
     "text": [
      "<class 'pandas.core.frame.DataFrame'>\n",
      "RangeIndex: 10000 entries, 0 to 9999\n",
      "Data columns (total 14 columns):\n",
      " #   Column           Non-Null Count  Dtype  \n",
      "---  ------           --------------  -----  \n",
      " 0   RowNumber        10000 non-null  int64  \n",
      " 1   CustomerId       10000 non-null  int64  \n",
      " 2   Surname          10000 non-null  object \n",
      " 3   CreditScore      10000 non-null  int64  \n",
      " 4   Geography        10000 non-null  object \n",
      " 5   Gender           10000 non-null  object \n",
      " 6   Age              10000 non-null  int64  \n",
      " 7   Tenure           10000 non-null  float64\n",
      " 8   Balance          10000 non-null  float64\n",
      " 9   NumOfProducts    10000 non-null  int64  \n",
      " 10  HasCrCard        10000 non-null  int64  \n",
      " 11  IsActiveMember   10000 non-null  int64  \n",
      " 12  EstimatedSalary  10000 non-null  float64\n",
      " 13  Exited           10000 non-null  int64  \n",
      "dtypes: float64(3), int64(8), object(3)\n",
      "memory usage: 1.1+ MB\n"
     ]
    }
   ],
   "source": [
    "customer_data = customer_data.fillna(-1)\n",
    "customer_data.info()"
   ]
  },
  {
   "cell_type": "markdown",
   "metadata": {},
   "source": [
    "### Проверим на дубликаты"
   ]
  },
  {
   "cell_type": "code",
   "execution_count": 7,
   "metadata": {},
   "outputs": [
    {
     "name": "stdout",
     "output_type": "stream",
     "text": [
      "Количество дубликатов: 0\n"
     ]
    }
   ],
   "source": [
    "print('Количество дубликатов:', customer_data['CustomerId'].duplicated().sum())"
   ]
  },
  {
   "cell_type": "code",
   "execution_count": 8,
   "metadata": {},
   "outputs": [
    {
     "data": {
      "text/html": [
       "<div>\n",
       "<style scoped>\n",
       "    .dataframe tbody tr th:only-of-type {\n",
       "        vertical-align: middle;\n",
       "    }\n",
       "\n",
       "    .dataframe tbody tr th {\n",
       "        vertical-align: top;\n",
       "    }\n",
       "\n",
       "    .dataframe thead th {\n",
       "        text-align: right;\n",
       "    }\n",
       "</style>\n",
       "<table border=\"1\" class=\"dataframe\">\n",
       "  <thead>\n",
       "    <tr style=\"text-align: right;\">\n",
       "      <th></th>\n",
       "      <th>rownumber</th>\n",
       "      <th>customerid</th>\n",
       "      <th>surname</th>\n",
       "      <th>creditscore</th>\n",
       "      <th>geography</th>\n",
       "      <th>gender</th>\n",
       "      <th>age</th>\n",
       "      <th>tenure</th>\n",
       "      <th>balance</th>\n",
       "      <th>numofproducts</th>\n",
       "      <th>hascrcard</th>\n",
       "      <th>isactivemember</th>\n",
       "      <th>estimatedsalary</th>\n",
       "      <th>exited</th>\n",
       "    </tr>\n",
       "  </thead>\n",
       "  <tbody>\n",
       "    <tr>\n",
       "      <th>0</th>\n",
       "      <td>1</td>\n",
       "      <td>15634602</td>\n",
       "      <td>Hargrave</td>\n",
       "      <td>619</td>\n",
       "      <td>France</td>\n",
       "      <td>Female</td>\n",
       "      <td>42</td>\n",
       "      <td>2.0</td>\n",
       "      <td>0.00</td>\n",
       "      <td>1</td>\n",
       "      <td>1</td>\n",
       "      <td>1</td>\n",
       "      <td>101348.88</td>\n",
       "      <td>1</td>\n",
       "    </tr>\n",
       "    <tr>\n",
       "      <th>1</th>\n",
       "      <td>2</td>\n",
       "      <td>15647311</td>\n",
       "      <td>Hill</td>\n",
       "      <td>608</td>\n",
       "      <td>Spain</td>\n",
       "      <td>Female</td>\n",
       "      <td>41</td>\n",
       "      <td>1.0</td>\n",
       "      <td>83807.86</td>\n",
       "      <td>1</td>\n",
       "      <td>0</td>\n",
       "      <td>1</td>\n",
       "      <td>112542.58</td>\n",
       "      <td>0</td>\n",
       "    </tr>\n",
       "    <tr>\n",
       "      <th>2</th>\n",
       "      <td>3</td>\n",
       "      <td>15619304</td>\n",
       "      <td>Onio</td>\n",
       "      <td>502</td>\n",
       "      <td>France</td>\n",
       "      <td>Female</td>\n",
       "      <td>42</td>\n",
       "      <td>8.0</td>\n",
       "      <td>159660.80</td>\n",
       "      <td>3</td>\n",
       "      <td>1</td>\n",
       "      <td>0</td>\n",
       "      <td>113931.57</td>\n",
       "      <td>1</td>\n",
       "    </tr>\n",
       "    <tr>\n",
       "      <th>3</th>\n",
       "      <td>4</td>\n",
       "      <td>15701354</td>\n",
       "      <td>Boni</td>\n",
       "      <td>699</td>\n",
       "      <td>France</td>\n",
       "      <td>Female</td>\n",
       "      <td>39</td>\n",
       "      <td>1.0</td>\n",
       "      <td>0.00</td>\n",
       "      <td>2</td>\n",
       "      <td>0</td>\n",
       "      <td>0</td>\n",
       "      <td>93826.63</td>\n",
       "      <td>0</td>\n",
       "    </tr>\n",
       "    <tr>\n",
       "      <th>4</th>\n",
       "      <td>5</td>\n",
       "      <td>15737888</td>\n",
       "      <td>Mitchell</td>\n",
       "      <td>850</td>\n",
       "      <td>Spain</td>\n",
       "      <td>Female</td>\n",
       "      <td>43</td>\n",
       "      <td>2.0</td>\n",
       "      <td>125510.82</td>\n",
       "      <td>1</td>\n",
       "      <td>1</td>\n",
       "      <td>1</td>\n",
       "      <td>79084.10</td>\n",
       "      <td>0</td>\n",
       "    </tr>\n",
       "  </tbody>\n",
       "</table>\n",
       "</div>"
      ],
      "text/plain": [
       "   rownumber  customerid   surname  creditscore geography  gender  age  \\\n",
       "0          1    15634602  Hargrave          619    France  Female   42   \n",
       "1          2    15647311      Hill          608     Spain  Female   41   \n",
       "2          3    15619304      Onio          502    France  Female   42   \n",
       "3          4    15701354      Boni          699    France  Female   39   \n",
       "4          5    15737888  Mitchell          850     Spain  Female   43   \n",
       "\n",
       "   tenure    balance  numofproducts  hascrcard  isactivemember  \\\n",
       "0     2.0       0.00              1          1               1   \n",
       "1     1.0   83807.86              1          0               1   \n",
       "2     8.0  159660.80              3          1               0   \n",
       "3     1.0       0.00              2          0               0   \n",
       "4     2.0  125510.82              1          1               1   \n",
       "\n",
       "   estimatedsalary  exited  \n",
       "0        101348.88       1  \n",
       "1        112542.58       0  \n",
       "2        113931.57       1  \n",
       "3         93826.63       0  \n",
       "4         79084.10       0  "
      ]
     },
     "execution_count": 8,
     "metadata": {},
     "output_type": "execute_result"
    }
   ],
   "source": [
    "customer_data.columns = customer_data.columns.str.lower()\n",
    "# Приводим названия столбцов к нижнему регистру.\n",
    "customer_data.head()"
   ]
  },
  {
   "cell_type": "code",
   "execution_count": 9,
   "metadata": {},
   "outputs": [
    {
     "data": {
      "text/html": [
       "<div>\n",
       "<style scoped>\n",
       "    .dataframe tbody tr th:only-of-type {\n",
       "        vertical-align: middle;\n",
       "    }\n",
       "\n",
       "    .dataframe tbody tr th {\n",
       "        vertical-align: top;\n",
       "    }\n",
       "\n",
       "    .dataframe thead th {\n",
       "        text-align: right;\n",
       "    }\n",
       "</style>\n",
       "<table border=\"1\" class=\"dataframe\">\n",
       "  <thead>\n",
       "    <tr style=\"text-align: right;\">\n",
       "      <th></th>\n",
       "      <th>rownumber</th>\n",
       "      <th>customerid</th>\n",
       "      <th>surname</th>\n",
       "      <th>creditscore</th>\n",
       "      <th>geography</th>\n",
       "      <th>gender</th>\n",
       "      <th>age</th>\n",
       "      <th>tenure</th>\n",
       "      <th>balance</th>\n",
       "      <th>numofproducts</th>\n",
       "      <th>hascrcard</th>\n",
       "      <th>isactivemember</th>\n",
       "      <th>estimatedsalary</th>\n",
       "      <th>exited</th>\n",
       "    </tr>\n",
       "  </thead>\n",
       "  <tbody>\n",
       "    <tr>\n",
       "      <th>0</th>\n",
       "      <td>1</td>\n",
       "      <td>15634602</td>\n",
       "      <td>hargrave</td>\n",
       "      <td>619</td>\n",
       "      <td>france</td>\n",
       "      <td>female</td>\n",
       "      <td>42</td>\n",
       "      <td>2.0</td>\n",
       "      <td>0.00</td>\n",
       "      <td>1</td>\n",
       "      <td>1</td>\n",
       "      <td>1</td>\n",
       "      <td>101348.88</td>\n",
       "      <td>1</td>\n",
       "    </tr>\n",
       "    <tr>\n",
       "      <th>1</th>\n",
       "      <td>2</td>\n",
       "      <td>15647311</td>\n",
       "      <td>hill</td>\n",
       "      <td>608</td>\n",
       "      <td>spain</td>\n",
       "      <td>female</td>\n",
       "      <td>41</td>\n",
       "      <td>1.0</td>\n",
       "      <td>83807.86</td>\n",
       "      <td>1</td>\n",
       "      <td>0</td>\n",
       "      <td>1</td>\n",
       "      <td>112542.58</td>\n",
       "      <td>0</td>\n",
       "    </tr>\n",
       "    <tr>\n",
       "      <th>2</th>\n",
       "      <td>3</td>\n",
       "      <td>15619304</td>\n",
       "      <td>onio</td>\n",
       "      <td>502</td>\n",
       "      <td>france</td>\n",
       "      <td>female</td>\n",
       "      <td>42</td>\n",
       "      <td>8.0</td>\n",
       "      <td>159660.80</td>\n",
       "      <td>3</td>\n",
       "      <td>1</td>\n",
       "      <td>0</td>\n",
       "      <td>113931.57</td>\n",
       "      <td>1</td>\n",
       "    </tr>\n",
       "    <tr>\n",
       "      <th>3</th>\n",
       "      <td>4</td>\n",
       "      <td>15701354</td>\n",
       "      <td>boni</td>\n",
       "      <td>699</td>\n",
       "      <td>france</td>\n",
       "      <td>female</td>\n",
       "      <td>39</td>\n",
       "      <td>1.0</td>\n",
       "      <td>0.00</td>\n",
       "      <td>2</td>\n",
       "      <td>0</td>\n",
       "      <td>0</td>\n",
       "      <td>93826.63</td>\n",
       "      <td>0</td>\n",
       "    </tr>\n",
       "    <tr>\n",
       "      <th>4</th>\n",
       "      <td>5</td>\n",
       "      <td>15737888</td>\n",
       "      <td>mitchell</td>\n",
       "      <td>850</td>\n",
       "      <td>spain</td>\n",
       "      <td>female</td>\n",
       "      <td>43</td>\n",
       "      <td>2.0</td>\n",
       "      <td>125510.82</td>\n",
       "      <td>1</td>\n",
       "      <td>1</td>\n",
       "      <td>1</td>\n",
       "      <td>79084.10</td>\n",
       "      <td>0</td>\n",
       "    </tr>\n",
       "  </tbody>\n",
       "</table>\n",
       "</div>"
      ],
      "text/plain": [
       "   rownumber  customerid   surname  creditscore geography  gender  age  \\\n",
       "0          1    15634602  hargrave          619    france  female   42   \n",
       "1          2    15647311      hill          608     spain  female   41   \n",
       "2          3    15619304      onio          502    france  female   42   \n",
       "3          4    15701354      boni          699    france  female   39   \n",
       "4          5    15737888  mitchell          850     spain  female   43   \n",
       "\n",
       "   tenure    balance  numofproducts  hascrcard  isactivemember  \\\n",
       "0     2.0       0.00              1          1               1   \n",
       "1     1.0   83807.86              1          0               1   \n",
       "2     8.0  159660.80              3          1               0   \n",
       "3     1.0       0.00              2          0               0   \n",
       "4     2.0  125510.82              1          1               1   \n",
       "\n",
       "   estimatedsalary  exited  \n",
       "0        101348.88       1  \n",
       "1        112542.58       0  \n",
       "2        113931.57       1  \n",
       "3         93826.63       0  \n",
       "4         79084.10       0  "
      ]
     },
     "execution_count": 9,
     "metadata": {},
     "output_type": "execute_result"
    }
   ],
   "source": [
    "customer_data['surname'] = customer_data['surname'].str.lower()\n",
    "customer_data['geography'] = customer_data['geography'].str.lower()\n",
    "customer_data['gender'] = customer_data['gender'].str.lower()\n",
    "# Приводим к нижнему регистру и строки. Это в том числе позволит избавиться от части неявных дубликатов\n",
    "customer_data.head()"
   ]
  },
  {
   "cell_type": "markdown",
   "metadata": {},
   "source": [
    "### Посмотрим подробнее, какие данные есть в датафрейме"
   ]
  },
  {
   "cell_type": "code",
   "execution_count": 10,
   "metadata": {},
   "outputs": [
    {
     "data": {
      "text/html": [
       "<div>\n",
       "<style scoped>\n",
       "    .dataframe tbody tr th:only-of-type {\n",
       "        vertical-align: middle;\n",
       "    }\n",
       "\n",
       "    .dataframe tbody tr th {\n",
       "        vertical-align: top;\n",
       "    }\n",
       "\n",
       "    .dataframe thead th {\n",
       "        text-align: right;\n",
       "    }\n",
       "</style>\n",
       "<table border=\"1\" class=\"dataframe\">\n",
       "  <thead>\n",
       "    <tr style=\"text-align: right;\">\n",
       "      <th></th>\n",
       "      <th>rownumber</th>\n",
       "      <th>customerid</th>\n",
       "      <th>surname</th>\n",
       "      <th>creditscore</th>\n",
       "      <th>geography</th>\n",
       "      <th>gender</th>\n",
       "      <th>age</th>\n",
       "      <th>tenure</th>\n",
       "      <th>balance</th>\n",
       "      <th>numofproducts</th>\n",
       "      <th>hascrcard</th>\n",
       "      <th>isactivemember</th>\n",
       "      <th>estimatedsalary</th>\n",
       "      <th>exited</th>\n",
       "    </tr>\n",
       "  </thead>\n",
       "  <tbody>\n",
       "    <tr>\n",
       "      <th>0</th>\n",
       "      <td>1</td>\n",
       "      <td>15634602</td>\n",
       "      <td>hargrave</td>\n",
       "      <td>619</td>\n",
       "      <td>france</td>\n",
       "      <td>female</td>\n",
       "      <td>42</td>\n",
       "      <td>2.0</td>\n",
       "      <td>0.00</td>\n",
       "      <td>1</td>\n",
       "      <td>1</td>\n",
       "      <td>1</td>\n",
       "      <td>101348.88</td>\n",
       "      <td>1</td>\n",
       "    </tr>\n",
       "    <tr>\n",
       "      <th>1</th>\n",
       "      <td>2</td>\n",
       "      <td>15647311</td>\n",
       "      <td>hill</td>\n",
       "      <td>608</td>\n",
       "      <td>spain</td>\n",
       "      <td>female</td>\n",
       "      <td>41</td>\n",
       "      <td>1.0</td>\n",
       "      <td>83807.86</td>\n",
       "      <td>1</td>\n",
       "      <td>0</td>\n",
       "      <td>1</td>\n",
       "      <td>112542.58</td>\n",
       "      <td>0</td>\n",
       "    </tr>\n",
       "    <tr>\n",
       "      <th>2</th>\n",
       "      <td>3</td>\n",
       "      <td>15619304</td>\n",
       "      <td>onio</td>\n",
       "      <td>502</td>\n",
       "      <td>france</td>\n",
       "      <td>female</td>\n",
       "      <td>42</td>\n",
       "      <td>8.0</td>\n",
       "      <td>159660.80</td>\n",
       "      <td>3</td>\n",
       "      <td>1</td>\n",
       "      <td>0</td>\n",
       "      <td>113931.57</td>\n",
       "      <td>1</td>\n",
       "    </tr>\n",
       "    <tr>\n",
       "      <th>3</th>\n",
       "      <td>4</td>\n",
       "      <td>15701354</td>\n",
       "      <td>boni</td>\n",
       "      <td>699</td>\n",
       "      <td>france</td>\n",
       "      <td>female</td>\n",
       "      <td>39</td>\n",
       "      <td>1.0</td>\n",
       "      <td>0.00</td>\n",
       "      <td>2</td>\n",
       "      <td>0</td>\n",
       "      <td>0</td>\n",
       "      <td>93826.63</td>\n",
       "      <td>0</td>\n",
       "    </tr>\n",
       "    <tr>\n",
       "      <th>4</th>\n",
       "      <td>5</td>\n",
       "      <td>15737888</td>\n",
       "      <td>mitchell</td>\n",
       "      <td>850</td>\n",
       "      <td>spain</td>\n",
       "      <td>female</td>\n",
       "      <td>43</td>\n",
       "      <td>2.0</td>\n",
       "      <td>125510.82</td>\n",
       "      <td>1</td>\n",
       "      <td>1</td>\n",
       "      <td>1</td>\n",
       "      <td>79084.10</td>\n",
       "      <td>0</td>\n",
       "    </tr>\n",
       "  </tbody>\n",
       "</table>\n",
       "</div>"
      ],
      "text/plain": [
       "   rownumber  customerid   surname  creditscore geography  gender  age  \\\n",
       "0          1    15634602  hargrave          619    france  female   42   \n",
       "1          2    15647311      hill          608     spain  female   41   \n",
       "2          3    15619304      onio          502    france  female   42   \n",
       "3          4    15701354      boni          699    france  female   39   \n",
       "4          5    15737888  mitchell          850     spain  female   43   \n",
       "\n",
       "   tenure    balance  numofproducts  hascrcard  isactivemember  \\\n",
       "0     2.0       0.00              1          1               1   \n",
       "1     1.0   83807.86              1          0               1   \n",
       "2     8.0  159660.80              3          1               0   \n",
       "3     1.0       0.00              2          0               0   \n",
       "4     2.0  125510.82              1          1               1   \n",
       "\n",
       "   estimatedsalary  exited  \n",
       "0        101348.88       1  \n",
       "1        112542.58       0  \n",
       "2        113931.57       1  \n",
       "3         93826.63       0  \n",
       "4         79084.10       0  "
      ]
     },
     "execution_count": 10,
     "metadata": {},
     "output_type": "execute_result"
    }
   ],
   "source": [
    "customer_data.head()"
   ]
  },
  {
   "cell_type": "code",
   "execution_count": 11,
   "metadata": {},
   "outputs": [
    {
     "data": {
      "text/plain": [
       "smith     32\n",
       "scott     29\n",
       "martin    29\n",
       "walker    28\n",
       "brown     26\n",
       "          ..\n",
       "zotova     1\n",
       "bold       1\n",
       "vogel      1\n",
       "gay        1\n",
       "morton     1\n",
       "Name: surname, Length: 2931, dtype: int64"
      ]
     },
     "execution_count": 11,
     "metadata": {},
     "output_type": "execute_result"
    }
   ],
   "source": [
    "customer_data['surname'].value_counts()\n",
    "# Фамилия не кажется информативной в контексте оттока клиентов, при том что у нас имеется индетификационный номер клиента.\n",
    "# Наиболее часто встречается фамилия Смит. Да и то лишь в 30 случаях из 10000.\n",
    "# Удалим данные, которые могут только помешать в контексте обучения моделей."
   ]
  },
  {
   "cell_type": "code",
   "execution_count": 12,
   "metadata": {},
   "outputs": [],
   "source": [
    "customer_data = customer_data.drop('surname', axis=1)\n",
    "# как неинформативный удаляем признак, содержащий информацию о фамилии"
   ]
  },
  {
   "cell_type": "code",
   "execution_count": 13,
   "metadata": {},
   "outputs": [],
   "source": [
    "customer_data = customer_data.drop(['customerid', 'rownumber'], axis=1)\n",
    "# как неинформативный удаляем признак, содержащий информацию о идентификационном номере клиента"
   ]
  },
  {
   "cell_type": "markdown",
   "metadata": {},
   "source": [
    "### Прибегаем к прямому кодированию и устраняем дамми-ловушку"
   ]
  },
  {
   "cell_type": "code",
   "execution_count": 14,
   "metadata": {},
   "outputs": [
    {
     "data": {
      "text/html": [
       "<div>\n",
       "<style scoped>\n",
       "    .dataframe tbody tr th:only-of-type {\n",
       "        vertical-align: middle;\n",
       "    }\n",
       "\n",
       "    .dataframe tbody tr th {\n",
       "        vertical-align: top;\n",
       "    }\n",
       "\n",
       "    .dataframe thead th {\n",
       "        text-align: right;\n",
       "    }\n",
       "</style>\n",
       "<table border=\"1\" class=\"dataframe\">\n",
       "  <thead>\n",
       "    <tr style=\"text-align: right;\">\n",
       "      <th></th>\n",
       "      <th>creditscore</th>\n",
       "      <th>age</th>\n",
       "      <th>tenure</th>\n",
       "      <th>balance</th>\n",
       "      <th>numofproducts</th>\n",
       "      <th>hascrcard</th>\n",
       "      <th>isactivemember</th>\n",
       "      <th>estimatedsalary</th>\n",
       "      <th>exited</th>\n",
       "      <th>geography_germany</th>\n",
       "      <th>geography_spain</th>\n",
       "      <th>gender_male</th>\n",
       "    </tr>\n",
       "  </thead>\n",
       "  <tbody>\n",
       "    <tr>\n",
       "      <th>0</th>\n",
       "      <td>619</td>\n",
       "      <td>42</td>\n",
       "      <td>2.0</td>\n",
       "      <td>0.00</td>\n",
       "      <td>1</td>\n",
       "      <td>1</td>\n",
       "      <td>1</td>\n",
       "      <td>101348.88</td>\n",
       "      <td>1</td>\n",
       "      <td>0</td>\n",
       "      <td>0</td>\n",
       "      <td>0</td>\n",
       "    </tr>\n",
       "    <tr>\n",
       "      <th>1</th>\n",
       "      <td>608</td>\n",
       "      <td>41</td>\n",
       "      <td>1.0</td>\n",
       "      <td>83807.86</td>\n",
       "      <td>1</td>\n",
       "      <td>0</td>\n",
       "      <td>1</td>\n",
       "      <td>112542.58</td>\n",
       "      <td>0</td>\n",
       "      <td>0</td>\n",
       "      <td>1</td>\n",
       "      <td>0</td>\n",
       "    </tr>\n",
       "    <tr>\n",
       "      <th>2</th>\n",
       "      <td>502</td>\n",
       "      <td>42</td>\n",
       "      <td>8.0</td>\n",
       "      <td>159660.80</td>\n",
       "      <td>3</td>\n",
       "      <td>1</td>\n",
       "      <td>0</td>\n",
       "      <td>113931.57</td>\n",
       "      <td>1</td>\n",
       "      <td>0</td>\n",
       "      <td>0</td>\n",
       "      <td>0</td>\n",
       "    </tr>\n",
       "    <tr>\n",
       "      <th>3</th>\n",
       "      <td>699</td>\n",
       "      <td>39</td>\n",
       "      <td>1.0</td>\n",
       "      <td>0.00</td>\n",
       "      <td>2</td>\n",
       "      <td>0</td>\n",
       "      <td>0</td>\n",
       "      <td>93826.63</td>\n",
       "      <td>0</td>\n",
       "      <td>0</td>\n",
       "      <td>0</td>\n",
       "      <td>0</td>\n",
       "    </tr>\n",
       "    <tr>\n",
       "      <th>4</th>\n",
       "      <td>850</td>\n",
       "      <td>43</td>\n",
       "      <td>2.0</td>\n",
       "      <td>125510.82</td>\n",
       "      <td>1</td>\n",
       "      <td>1</td>\n",
       "      <td>1</td>\n",
       "      <td>79084.10</td>\n",
       "      <td>0</td>\n",
       "      <td>0</td>\n",
       "      <td>1</td>\n",
       "      <td>0</td>\n",
       "    </tr>\n",
       "  </tbody>\n",
       "</table>\n",
       "</div>"
      ],
      "text/plain": [
       "   creditscore  age  tenure    balance  numofproducts  hascrcard  \\\n",
       "0          619   42     2.0       0.00              1          1   \n",
       "1          608   41     1.0   83807.86              1          0   \n",
       "2          502   42     8.0  159660.80              3          1   \n",
       "3          699   39     1.0       0.00              2          0   \n",
       "4          850   43     2.0  125510.82              1          1   \n",
       "\n",
       "   isactivemember  estimatedsalary  exited  geography_germany  \\\n",
       "0               1        101348.88       1                  0   \n",
       "1               1        112542.58       0                  0   \n",
       "2               0        113931.57       1                  0   \n",
       "3               0         93826.63       0                  0   \n",
       "4               1         79084.10       0                  0   \n",
       "\n",
       "   geography_spain  gender_male  \n",
       "0                0            0  \n",
       "1                1            0  \n",
       "2                0            0  \n",
       "3                0            0  \n",
       "4                1            0  "
      ]
     },
     "execution_count": 14,
     "metadata": {},
     "output_type": "execute_result"
    }
   ],
   "source": [
    "customer_data = pd.get_dummies(customer_data, drop_first=True)\n",
    "\n",
    "customer_data.head()"
   ]
  },
  {
   "cell_type": "markdown",
   "metadata": {},
   "source": [
    "### Делим выборки на обучающую, валидационную и тестовую. Без учета дисбаланса данных"
   ]
  },
  {
   "cell_type": "code",
   "execution_count": 15,
   "metadata": {},
   "outputs": [],
   "source": [
    "features = customer_data.drop('exited', axis=1)\n",
    "target = customer_data['exited']\n",
    "\n",
    "customer_train, customer_temp, customer_train_target, customer_temps = train_test_split(features,\n",
    "                                                          target,\n",
    "                                                          test_size=.40,\n",
    "                                                          random_state=12345)\n",
    "\n",
    "customer_val, customer_test, customer_val_target, customer_test_target = train_test_split(customer_temp,\n",
    "                                                    customer_temps,\n",
    "                                                    test_size=.50,\n",
    "                                                    random_state=12345)"
   ]
  },
  {
   "cell_type": "code",
   "execution_count": 16,
   "metadata": {},
   "outputs": [
    {
     "name": "stdout",
     "output_type": "stream",
     "text": [
      "(6000, 11)\n",
      "(6000,)\n",
      "(2000, 11)\n",
      "(2000,)\n",
      "(2000, 11)\n",
      "(2000,)\n"
     ]
    }
   ],
   "source": [
    "print(customer_train.shape)\n",
    "print(customer_train_target.shape)\n",
    "print(customer_val.shape)\n",
    "print(customer_val_target.shape)\n",
    "print(customer_test.shape)\n",
    "print(customer_test_target.shape)"
   ]
  },
  {
   "cell_type": "code",
   "execution_count": 17,
   "metadata": {},
   "outputs": [],
   "source": [
    "pd.options.mode.chained_assignment = None\n",
    "numeric = ['balance', 'estimatedsalary', 'age', 'creditscore']\n",
    "\n",
    "scaler = StandardScaler()\n",
    "scaler.fit(customer_train[numeric])\n",
    "\n",
    "customer_train[numeric] = scaler.transform(customer_train[numeric])\n",
    "customer_val[numeric] = scaler.transform(customer_val[numeric]) \n"
   ]
  },
  {
   "cell_type": "markdown",
   "metadata": {},
   "source": [
    "## Исследование задачи"
   ]
  },
  {
   "cell_type": "markdown",
   "metadata": {},
   "source": [
    "### Проверяем баланс классов"
   ]
  },
  {
   "cell_type": "code",
   "execution_count": 18,
   "metadata": {},
   "outputs": [
    {
     "data": {
      "text/plain": [
       "0    7963\n",
       "1    2037\n",
       "Name: exited, dtype: int64"
      ]
     },
     "execution_count": 18,
     "metadata": {},
     "output_type": "execute_result"
    }
   ],
   "source": [
    "customer_data['exited'].value_counts()\n",
    "# Очевидно имеется дисбаланс классов."
   ]
  },
  {
   "cell_type": "markdown",
   "metadata": {},
   "source": [
    "### Модель решающего дерева"
   ]
  },
  {
   "cell_type": "code",
   "execution_count": 19,
   "metadata": {},
   "outputs": [
    {
     "name": "stdout",
     "output_type": "stream",
     "text": [
      "Accuracy: 0.8535\n",
      "Recall: 0.41626794258373206 \n",
      "Precision: 0.7802690582959642 \n",
      "F1: 0.5429017160686427\n"
     ]
    }
   ],
   "source": [
    "tree_model = DecisionTreeClassifier(random_state=12345, max_depth=5, min_samples_split=4, min_samples_leaf=2)\n",
    "tree_model.fit(customer_train, customer_train_target)\n",
    "predict_tree_model = tree_model.predict(customer_val)\n",
    "print('Accuracy:', accuracy_score(customer_val_target, predict_tree_model))\n",
    "#print(confusion_matrix(customer_val_target, predict_tree_model))\n",
    "print('Recall:', recall_score(customer_val_target, predict_tree_model), '\\n'\n",
    "      'Precision:', precision_score(customer_val_target, predict_tree_model), '\\n' \n",
    "      'F1:', f1_score(customer_val_target, predict_tree_model))"
   ]
  },
  {
   "cell_type": "markdown",
   "metadata": {},
   "source": [
    "### Модель случайного леса"
   ]
  },
  {
   "cell_type": "code",
   "execution_count": 20,
   "metadata": {},
   "outputs": [],
   "source": [
    "train_dataset = [customer_train, customer_val]\n",
    "train_target_dataset = [customer_train_target, customer_val_target]\n",
    "train_dataset = pd.concat(train_dataset)\n",
    "train_target_dataset = pd.concat(train_target_dataset)"
   ]
  },
  {
   "cell_type": "code",
   "execution_count": 21,
   "metadata": {
    "scrolled": true
   },
   "outputs": [
    {
     "name": "stdout",
     "output_type": "stream",
     "text": [
      "{'max_depth': 7, 'min_samples_leaf': 4, 'min_samples_split': 2, 'n_estimators': 10}\n",
      "mean_fit_time                                                       0.051026\n",
      "std_fit_time                                                        0.001168\n",
      "mean_score_time                                                     0.008917\n",
      "std_score_time                                                      0.000132\n",
      "param_max_depth                                                            7\n",
      "param_min_samples_leaf                                                     4\n",
      "param_min_samples_split                                                    2\n",
      "param_n_estimators                                                        10\n",
      "params                     {'max_depth': 7, 'min_samples_leaf': 4, 'min_s...\n",
      "split0_test_accuracy                                                    0.86\n",
      "split1_test_accuracy                                                    0.86\n",
      "split2_test_accuracy                                                0.871875\n",
      "split3_test_accuracy                                                0.869375\n",
      "split4_test_accuracy                                                 0.86625\n",
      "mean_test_accuracy                                                    0.8655\n",
      "std_test_accuracy                                                   0.004832\n",
      "rank_test_accuracy                                                         1\n",
      "split0_test_f1                                                      0.550201\n",
      "split1_test_f1                                                      0.544715\n",
      "split2_test_f1                                                      0.580777\n",
      "split3_test_f1                                                      0.572597\n",
      "split4_test_f1                                                      0.573705\n",
      "mean_test_f1                                                        0.564399\n",
      "std_test_f1                                                          0.01422\n",
      "rank_test_f1                                                               1\n",
      "split0_test_precision                                               0.778409\n",
      "split1_test_precision                                               0.792899\n",
      "split2_test_precision                                               0.855422\n",
      "split3_test_precision                                               0.843373\n",
      "split4_test_precision                                               0.804469\n",
      "mean_test_precision                                                 0.814915\n",
      "std_test_precision                                                  0.029588\n",
      "rank_test_precision                                                      822\n",
      "split0_test_recall                                                  0.425466\n",
      "split1_test_recall                                                  0.414861\n",
      "split2_test_recall                                                  0.439628\n",
      "split3_test_recall                                                  0.433437\n",
      "split4_test_recall                                                   0.44582\n",
      "mean_test_recall                                                    0.431842\n",
      "std_test_recall                                                     0.010841\n",
      "rank_test_recall                                                           9\n",
      "Name: 1329, dtype: object\n",
      "CPU times: user 3min 47s, sys: 1.06 s, total: 3min 48s\n",
      "Wall time: 3min 50s\n"
     ]
    }
   ],
   "source": [
    "%%time\n",
    "warnings.simplefilter('ignore')\n",
    "# Выключил предупреждения, поскольку из-за несбалансированности выборки периодически невозможно посчитать f1\n",
    "\n",
    "forest_model = RandomForestClassifier(random_state=12345)\n",
    "parametrs = {\n",
    "    'n_estimators': range (1, 11),\n",
    "    'max_depth': range (1,8),\n",
    "    'min_samples_leaf': range (1,6),\n",
    "    'min_samples_split': range (2,6)\n",
    "}\n",
    "\n",
    "best_forest_model = GridSearchCV(forest_model, parametrs,\n",
    "                                 scoring=['accuracy', 'f1', 'precision', 'recall'],\n",
    "                                 refit='f1')\n",
    "\n",
    "best_forest_model.fit(train_dataset, train_target_dataset)\n",
    "print(best_forest_model.best_params_)\n",
    "cv_results = pd.DataFrame(best_forest_model.cv_results_)\n",
    "best_model_results = cv_results.loc[best_forest_model.best_index_]\n",
    "print(best_model_results)"
   ]
  },
  {
   "cell_type": "code",
   "execution_count": 22,
   "metadata": {},
   "outputs": [
    {
     "name": "stdout",
     "output_type": "stream",
     "text": [
      "F1: 0.564\n"
     ]
    }
   ],
   "source": [
    "print('F1: {:.3f}'.format(best_forest_model.best_score_))"
   ]
  },
  {
   "cell_type": "markdown",
   "metadata": {},
   "source": [
    "### Модель логистической регрессии"
   ]
  },
  {
   "cell_type": "code",
   "execution_count": 23,
   "metadata": {},
   "outputs": [
    {
     "name": "stdout",
     "output_type": "stream",
     "text": [
      "Accuracy: 0.8025\n",
      "Recall: 0.23684210526315788 \n",
      "Precision: 0.5657142857142857 \n",
      "F1: 0.33389544688026984\n"
     ]
    }
   ],
   "source": [
    "logist_model = LogisticRegression(solver='lbfgs', random_state=12345)\n",
    "logist_model.fit(customer_train, customer_train_target)\n",
    "predict_logist_model = logist_model.predict(customer_val)\n",
    "print('Accuracy:', accuracy_score(customer_val_target, predict_logist_model))\n",
    "print('Recall:', recall_score(customer_val_target, predict_logist_model), '\\n'\n",
    "      'Precision:', precision_score(customer_val_target, predict_logist_model), '\\n' \n",
    "      'F1:', f1_score(customer_val_target, predict_logist_model))"
   ]
  },
  {
   "cell_type": "markdown",
   "metadata": {},
   "source": [
    "**Вывод:**\n",
    "\n",
    "судя по данным все три модели показывают высокий Accuracy. Модель решающего дерева - 0.86, случайного леса - 0.85, логистической регресии - 0.79. \n",
    "\n",
    "При этом в рамках логистической регрессии не удалось вычислить Recall, Precision и F1, поскольку модель предсказывает только нули (текущие клиенты банка) из-за дисбаланса классов.\n",
    "\n",
    "Модель решающего дерева показала полноту = 0.36 и точность = 0.87. Очевидно из-за дисбаланса классов модель хорошо ищет нули (текущие клиенты банка) и значительно хуже ищет еденицы (отток клиентов банка). \n",
    "\n",
    "Модель случайного леса показала полноту = 0.40 и точность = 0.79, F1 = 0.53. Очевидно у данной модели имеются проблемы, аналогичные проблемам решающего дерева. Из-за дисбаланса классов модель хорошо предсказывает нули (текущие клиенты банка) и плохо еденицы (отток клиентов банка)."
   ]
  },
  {
   "cell_type": "markdown",
   "metadata": {},
   "source": [
    "## Борьба с дисбалансом классов"
   ]
  },
  {
   "cell_type": "markdown",
   "metadata": {},
   "source": [
    "### Выделим выборки с учетом дисбаланса классов, методом стратификации"
   ]
  },
  {
   "cell_type": "code",
   "execution_count": 24,
   "metadata": {},
   "outputs": [],
   "source": [
    "# Решение позаимствованно у stackoverflowuser2010\n",
    "# ссылка https://stackoverflow.com/questions/38250710/how-to-split-data-into-3-sets-train-validation-and-test\n",
    "\n",
    "# функция по разделения выборок на валидационную, тестовую и обучающую со стратификацией\n",
    "def split_stratified_into_train_val_test(df_input, stratify_colname='y',\n",
    "                                         frac_train=0.6, frac_val=0.20, frac_test=0.20,\n",
    "                                         random_state=None):\n",
    "\n",
    "    if frac_train + frac_val + frac_test != 1.0:\n",
    "        raise ValueError('fractions %f, %f, %f do not add up to 1.0' % \\\n",
    "                         (frac_train, frac_val, frac_test))\n",
    "\n",
    "    if stratify_colname not in df_input.columns:\n",
    "        raise ValueError('%s is not a column in the dataframe' % (stratify_colname))\n",
    "\n",
    "    X = df_input \n",
    "    y = df_input[[stratify_colname]]\n",
    "\n",
    "    df_train, df_temp, y_train, y_temp = train_test_split(X,\n",
    "                                                          y,\n",
    "                                                          stratify=y,\n",
    "                                                          test_size=(1.0 - frac_train),\n",
    "                                                          random_state=random_state)\n",
    "\n",
    "    relative_frac_test = frac_test / (frac_val + frac_test)\n",
    "    df_val, df_test, y_val, y_test = train_test_split(df_temp,\n",
    "                                                      y_temp,\n",
    "                                                      stratify=y_temp,\n",
    "                                                      test_size=relative_frac_test,\n",
    "                                                      random_state=random_state)\n",
    "\n",
    "    assert len(df_input) == len(df_train) + len(df_val) + len(df_test)\n",
    "\n",
    "    return df_train, df_val, df_test"
   ]
  },
  {
   "cell_type": "code",
   "execution_count": 25,
   "metadata": {},
   "outputs": [],
   "source": [
    "client_train, client_val, client_test = \\\n",
    "    split_stratified_into_train_val_test(customer_data, stratify_colname='exited',\n",
    "                                         frac_train=0.60, frac_val=0.20, frac_test=0.20)\n",
    "# используем заданную функцию для разделения на выборки"
   ]
  },
  {
   "cell_type": "code",
   "execution_count": 26,
   "metadata": {},
   "outputs": [],
   "source": [
    "features_client_train = client_train.drop('exited', axis=1)\n",
    "target_client_train = client_train['exited'] \n",
    "# выделяем целевой признак"
   ]
  },
  {
   "cell_type": "code",
   "execution_count": 27,
   "metadata": {},
   "outputs": [],
   "source": [
    "features_client_val = client_val.drop('exited', axis=1) \n",
    "target_client_val = client_val['exited'] \n",
    "# выделяем целевой признак"
   ]
  },
  {
   "cell_type": "code",
   "execution_count": 28,
   "metadata": {},
   "outputs": [],
   "source": [
    "features_client_test = client_test.drop('exited', axis=1)\n",
    "target_client_test = client_test['exited']\n",
    "# выделяем целевой признак"
   ]
  },
  {
   "cell_type": "code",
   "execution_count": 29,
   "metadata": {},
   "outputs": [
    {
     "name": "stdout",
     "output_type": "stream",
     "text": [
      "(6000, 11)\n",
      "(6000,)\n",
      "(2000, 11)\n",
      "(2000,)\n",
      "(2000, 11)\n",
      "(2000,)\n"
     ]
    }
   ],
   "source": [
    "print(features_client_train.shape)\n",
    "print(target_client_train.shape)\n",
    "print(features_client_val.shape)\n",
    "print(target_client_val.shape)\n",
    "print(features_client_test.shape)\n",
    "print(target_client_test.shape)"
   ]
  },
  {
   "cell_type": "markdown",
   "metadata": {},
   "source": [
    "### Сбалансируем количество текущих клиентов и отток клиентов (значения 1 и 0 целевого признака)"
   ]
  },
  {
   "cell_type": "markdown",
   "metadata": {},
   "source": [
    "#### Модель логистической регрессии"
   ]
  },
  {
   "cell_type": "code",
   "execution_count": 30,
   "metadata": {},
   "outputs": [],
   "source": [
    "# функция дублирует сведения об оттоке клиентов, тем самым устраняя дисбаланс классов\n",
    "def upsample(features, target):\n",
    "    features_zeros = features[target == 0]\n",
    "    features_ones = features[target == 1]\n",
    "    target_zeros = target[target == 0]\n",
    "    target_ones = target[target == 1]\n",
    "\n",
    "    ratio_features = (len(target) - target.sum()) / target.sum()\n",
    "    ratio_features = int(ratio_features)\n",
    "    features_upsampled = pd.concat([features_zeros] + [features_ones] * ratio_features)\n",
    "    target_upsampled = pd.concat([target_zeros] + [target_ones] * ratio_features)\n",
    "    \n",
    "    \n",
    "    features_upsampled, target_upsampled = shuffle(\n",
    "        features_upsampled, target_upsampled, random_state=12345)\n",
    "    \n",
    "    return features_upsampled, target_upsampled\n",
    "\n",
    "\n",
    "\n",
    "features_upsampled, target_upsampled = upsample(features_client_train, target_client_train)\n",
    "features_upsampled_val, target_upsampled_val = upsample(features_client_val, target_client_val)"
   ]
  },
  {
   "cell_type": "code",
   "execution_count": 31,
   "metadata": {},
   "outputs": [
    {
     "name": "stdout",
     "output_type": "stream",
     "text": [
      "Accuracy: 0.6697443181818182\n",
      "Recall: 0.6862745098039216 \n",
      "Precision: 0.6060606060606061 \n",
      "F1: 0.6436781609195401\n"
     ]
    }
   ],
   "source": [
    "logist_model = LogisticRegression(solver='liblinear', class_weight='balanced', random_state=12345)\n",
    "logist_model.fit(features_upsampled, target_upsampled)\n",
    "predict_logist_model = logist_model.predict(features_upsampled_val)\n",
    "\n",
    "accuracy= accuracy_score(target_upsampled_val, predict_logist_model)\n",
    "recall = recall_score(target_upsampled_val, predict_logist_model)\n",
    "precision = precision_score(target_upsampled_val, predict_logist_model)\n",
    "f1 = f1_score(target_upsampled_val, predict_logist_model)\n",
    "print('Accuracy:', accuracy)\n",
    "print('Recall:', recall, '\\n'\n",
    "      'Precision:', precision, '\\n' \n",
    "      'F1:', f1)"
   ]
  },
  {
   "cell_type": "code",
   "execution_count": 32,
   "metadata": {},
   "outputs": [
    {
     "name": "stdout",
     "output_type": "stream",
     "text": [
      "Threshold = 0.00 | Precision = 0.435, Recall = 1.000, F1 = 0.606\n",
      "Threshold = 0.02 | Precision = 0.435, Recall = 1.000, F1 = 0.606\n",
      "Threshold = 0.04 | Precision = 0.435, Recall = 1.000, F1 = 0.606\n",
      "Threshold = 0.06 | Precision = 0.435, Recall = 1.000, F1 = 0.606\n",
      "Threshold = 0.08 | Precision = 0.435, Recall = 1.000, F1 = 0.606\n",
      "Threshold = 0.10 | Precision = 0.435, Recall = 1.000, F1 = 0.606\n",
      "Threshold = 0.12 | Precision = 0.435, Recall = 1.000, F1 = 0.606\n",
      "Threshold = 0.14 | Precision = 0.435, Recall = 1.000, F1 = 0.607\n",
      "Threshold = 0.16 | Precision = 0.436, Recall = 0.998, F1 = 0.606\n",
      "Threshold = 0.18 | Precision = 0.437, Recall = 0.998, F1 = 0.608\n",
      "Threshold = 0.20 | Precision = 0.439, Recall = 0.995, F1 = 0.609\n",
      "Threshold = 0.22 | Precision = 0.443, Recall = 0.993, F1 = 0.613\n",
      "Threshold = 0.24 | Precision = 0.448, Recall = 0.990, F1 = 0.617\n",
      "Threshold = 0.26 | Precision = 0.454, Recall = 0.980, F1 = 0.620\n",
      "Threshold = 0.28 | Precision = 0.462, Recall = 0.975, F1 = 0.627\n",
      "Threshold = 0.30 | Precision = 0.469, Recall = 0.963, F1 = 0.631\n",
      "Threshold = 0.32 | Precision = 0.477, Recall = 0.941, F1 = 0.633\n",
      "Threshold = 0.34 | Precision = 0.484, Recall = 0.914, F1 = 0.633\n",
      "Threshold = 0.36 | Precision = 0.499, Recall = 0.902, F1 = 0.642\n",
      "Threshold = 0.38 | Precision = 0.512, Recall = 0.877, F1 = 0.647\n",
      "Threshold = 0.40 | Precision = 0.523, Recall = 0.853, F1 = 0.648\n",
      "Threshold = 0.42 | Precision = 0.541, Recall = 0.838, F1 = 0.657\n",
      "Threshold = 0.44 | Precision = 0.559, Recall = 0.814, F1 = 0.662\n",
      "Threshold = 0.46 | Precision = 0.563, Recall = 0.755, F1 = 0.645\n",
      "Threshold = 0.48 | Precision = 0.581, Recall = 0.713, F1 = 0.640\n",
      "Threshold = 0.50 | Precision = 0.606, Recall = 0.686, F1 = 0.644\n",
      "Threshold = 0.52 | Precision = 0.614, Recall = 0.637, F1 = 0.626\n",
      "Threshold = 0.54 | Precision = 0.625, Recall = 0.588, F1 = 0.606\n",
      "Threshold = 0.56 | Precision = 0.636, Recall = 0.527, F1 = 0.576\n",
      "Threshold = 0.58 | Precision = 0.651, Recall = 0.468, F1 = 0.545\n",
      "Threshold = 0.60 | Precision = 0.658, Recall = 0.422, F1 = 0.514\n",
      "Threshold = 0.62 | Precision = 0.671, Recall = 0.377, F1 = 0.483\n",
      "Threshold = 0.64 | Precision = 0.672, Recall = 0.328, F1 = 0.441\n",
      "Threshold = 0.66 | Precision = 0.676, Recall = 0.284, F1 = 0.400\n",
      "Threshold = 0.68 | Precision = 0.672, Recall = 0.225, F1 = 0.338\n",
      "Threshold = 0.70 | Precision = 0.706, Recall = 0.206, F1 = 0.319\n",
      "Threshold = 0.72 | Precision = 0.689, Recall = 0.167, F1 = 0.268\n",
      "Threshold = 0.74 | Precision = 0.643, Recall = 0.118, F1 = 0.199\n",
      "Threshold = 0.76 | Precision = 0.597, Recall = 0.086, F1 = 0.150\n",
      "Threshold = 0.78 | Precision = 0.604, Recall = 0.071, F1 = 0.127\n",
      "Threshold = 0.80 | Precision = 0.595, Recall = 0.054, F1 = 0.099\n",
      "Threshold = 0.82 | Precision = 0.493, Recall = 0.027, F1 = 0.051\n",
      "Threshold = 0.84 | Precision = 0.467, Recall = 0.017, F1 = 0.033\n",
      "Threshold = 0.86 | Precision = 0.500, Recall = 0.012, F1 = 0.024\n",
      "Threshold = 0.88 | Precision = 0.231, Recall = 0.002, F1 = 0.005\n",
      "Threshold = 0.90 | Precision = 0.000, Recall = 0.000, F1 = 0.000\n",
      "Threshold = 0.92 | Precision = 0.000, Recall = 0.000, F1 = 0.000\n",
      "Threshold = 0.94 | Precision = 0.000, Recall = 0.000, F1 = 0.000\n",
      "Threshold = 0.96 | Precision = 0.000, Recall = 0.000, F1 = 0.000\n",
      "Threshold = 0.98 | Precision = 0.000, Recall = 0.000, F1 = 0.000\n"
     ]
    }
   ],
   "source": [
    "probabilities_valid = logist_model.predict_proba(features_upsampled_val)\n",
    "probabilities_one_valid = probabilities_valid[:, 1]\n",
    "\n",
    "for threshold in np.arange(0, 1, 0.02):\n",
    "    predicted_valid = probabilities_one_valid > threshold \n",
    "    precision = precision_score(target_upsampled_val, predicted_valid)\n",
    "    recall = recall_score(target_upsampled_val, predicted_valid)\n",
    "    f1 = f1_score(target_upsampled_val, predicted_valid)\n",
    "\n",
    "    print(\"Threshold = {:.2f} | Precision = {:.3f}, Recall = {:.3f}, F1 = {:.3f}\".format(\n",
    "        threshold, precision, recall, f1))"
   ]
  },
  {
   "cell_type": "code",
   "execution_count": 33,
   "metadata": {},
   "outputs": [
    {
     "name": "stdout",
     "output_type": "stream",
     "text": [
      "AUC-ROC: 0.60\n"
     ]
    }
   ],
   "source": [
    "probabilities_valid = logist_model.predict_proba(features_upsampled_val)[:, 1] > 0.36\n",
    "auc_roc = roc_auc_score(target_upsampled_val, probabilities_valid)\n",
    "print('AUC-ROC: {:.2f}'.format(auc_roc))"
   ]
  },
  {
   "cell_type": "code",
   "execution_count": 34,
   "metadata": {},
   "outputs": [
    {
     "data": {
      "image/png": "[encoded data removed]",
      "text/plain": [
       "<Figure size 432x288 with 1 Axes>"
      ]
     },
     "metadata": {
      "needs_background": "light"
     },
     "output_type": "display_data"
    }
   ],
   "source": [
    "fpr, tpr, thresholds = roc_curve(target_upsampled_val, probabilities_valid)\n",
    "plt.figure()\n",
    "plt.plot(fpr, tpr)\n",
    "plt.xlim([0.0, 1.0])\n",
    "plt.ylim([0.0, 1.0])\n",
    "plt.xlabel(\"False Positive Rate\")\n",
    "plt.ylabel(\"True Positive Rate\")\n",
    "plt.title(\"ROC-кривая\")\n",
    "plt.plot([0.0, 1.0], [0.0, 1.0], linestyle='--')\n",
    "plt.show()"
   ]
  },
  {
   "cell_type": "markdown",
   "metadata": {},
   "source": [
    "**Вывод:**\n",
    "\n",
    "несмотря на высокий показатель F1 меры модель показала ресультат немногим лучше случайного предсказания. Модель логистической регрессии кажется переобученной из-за увеличения выборки."
   ]
  },
  {
   "cell_type": "markdown",
   "metadata": {},
   "source": [
    "#### Модель решающего дерева"
   ]
  },
  {
   "cell_type": "code",
   "execution_count": 35,
   "metadata": {},
   "outputs": [
    {
     "name": "stdout",
     "output_type": "stream",
     "text": [
      "Accuracy: 0.7625\n",
      "Recall: 0.7132352941176471 \n",
      "Precision: 0.44838212634822805 \n",
      "F1: 0.5506149479659413\n"
     ]
    }
   ],
   "source": [
    "tree_model = DecisionTreeClassifier(random_state=12345, \n",
    "                                    max_depth=5, min_samples_split=4, min_samples_leaf=2, \n",
    "                                    class_weight='balanced')\n",
    "tree_model.fit(features_client_train, target_client_train)\n",
    "predict_tree_model = tree_model.predict(features_client_val)\n",
    "\n",
    "print('Accuracy:', accuracy_score(target_client_val, predict_tree_model))\n",
    "print('Recall:', recall_score(target_client_val, predict_tree_model), '\\n'\n",
    "      'Precision:', precision_score(target_client_val, predict_tree_model), '\\n' \n",
    "      'F1:', f1_score(target_client_val, predict_tree_model))"
   ]
  },
  {
   "cell_type": "markdown",
   "metadata": {},
   "source": [
    "#### Модель случайного леса"
   ]
  },
  {
   "cell_type": "code",
   "execution_count": 36,
   "metadata": {},
   "outputs": [
    {
     "name": "stdout",
     "output_type": "stream",
     "text": [
      "(8000, 11)\n",
      "(8000,)\n"
     ]
    }
   ],
   "source": [
    "train_dataset = [features_client_train, features_client_val]\n",
    "train_target_dataset = [target_client_train, target_client_val]\n",
    "train_dataset = pd.concat(train_dataset)\n",
    "train_target_dataset = pd.concat(train_target_dataset)\n",
    "print(train_dataset.shape)\n",
    "print(train_target_dataset.shape)"
   ]
  },
  {
   "cell_type": "code",
   "execution_count": 37,
   "metadata": {},
   "outputs": [
    {
     "name": "stdout",
     "output_type": "stream",
     "text": [
      "{'max_depth': 7, 'min_samples_leaf': 1, 'min_samples_split': 3, 'n_estimators': 10}\n",
      "mean_fit_time                                                       0.056313\n",
      "std_fit_time                                                        0.002578\n",
      "mean_score_time                                                     0.010171\n",
      "std_score_time                                                      0.000796\n",
      "param_max_depth                                                            7\n",
      "param_min_samples_leaf                                                     1\n",
      "param_min_samples_split                                                    3\n",
      "param_n_estimators                                                        10\n",
      "params                     {'max_depth': 7, 'min_samples_leaf': 1, 'min_s...\n",
      "split0_test_accuracy                                                0.814375\n",
      "split1_test_accuracy                                                0.828125\n",
      "split2_test_accuracy                                                 0.80375\n",
      "split3_test_accuracy                                                 0.81375\n",
      "split4_test_accuracy                                                 0.80625\n",
      "mean_test_accuracy                                                   0.81325\n",
      "std_test_accuracy                                                   0.008509\n",
      "rank_test_accuracy                                                         2\n",
      "split0_test_f1                                                      0.606623\n",
      "split1_test_f1                                                      0.626866\n",
      "split2_test_f1                                                      0.601523\n",
      "split3_test_f1                                                      0.595109\n",
      "split4_test_f1                                                      0.588859\n",
      "mean_test_f1                                                        0.603796\n",
      "std_test_f1                                                         0.012992\n",
      "rank_test_f1                                                               1\n",
      "split0_test_precision                                                 0.5338\n",
      "split1_test_precision                                               0.562044\n",
      "split2_test_precision                                               0.512987\n",
      "split3_test_precision                                               0.534146\n",
      "split4_test_precision                                               0.518692\n",
      "mean_test_precision                                                 0.532334\n",
      "std_test_precision                                                  0.017021\n",
      "rank_test_precision                                                       42\n",
      "split0_test_recall                                                  0.702454\n",
      "split1_test_recall                                                  0.708589\n",
      "split2_test_recall                                                  0.726994\n",
      "split3_test_recall                                                  0.671779\n",
      "split4_test_recall                                                  0.680982\n",
      "mean_test_recall                                                     0.69816\n",
      "std_test_recall                                                     0.019747\n",
      "rank_test_recall                                                         642\n",
      "Name: 1219, dtype: object\n",
      "CPU times: user 3min 54s, sys: 1.06 s, total: 3min 55s\n",
      "Wall time: 3min 55s\n"
     ]
    }
   ],
   "source": [
    "%%time\n",
    "\n",
    "forest_model = RandomForestClassifier(random_state=12345, class_weight='balanced')\n",
    "parametrs = {\n",
    "    'n_estimators': range (1, 11),\n",
    "    'max_depth': range (1,8),\n",
    "    'min_samples_leaf': range (1,6),\n",
    "    'min_samples_split': range (2,6)\n",
    "}\n",
    "\n",
    "best_forest_model = GridSearchCV(forest_model, parametrs,\n",
    "                                 scoring=['accuracy', 'f1', 'precision', 'recall'],\n",
    "                                 refit='f1')\n",
    "\n",
    "best_forest_model.fit(train_dataset, train_target_dataset)\n",
    "print(best_forest_model.best_params_)\n",
    "cv_results = pd.DataFrame(best_forest_model.cv_results_)\n",
    "best_model_results = cv_results.loc[best_forest_model.best_index_]\n",
    "print(best_model_results)"
   ]
  },
  {
   "cell_type": "code",
   "execution_count": 38,
   "metadata": {},
   "outputs": [
    {
     "name": "stdout",
     "output_type": "stream",
     "text": [
      "F1: 0.604\n"
     ]
    }
   ],
   "source": [
    "print('F1: {:.3f}'.format(best_forest_model.best_score_))"
   ]
  },
  {
   "cell_type": "code",
   "execution_count": 39,
   "metadata": {},
   "outputs": [
    {
     "name": "stdout",
     "output_type": "stream",
     "text": [
      "AUC-ROC: 0.81\n"
     ]
    }
   ],
   "source": [
    "predicted_forest = best_forest_model.predict(train_dataset)\n",
    "auc_roc = roc_auc_score(train_target_dataset, predicted_forest)\n",
    "print('AUC-ROC: {:.2f}'.format(auc_roc))"
   ]
  },
  {
   "cell_type": "code",
   "execution_count": 40,
   "metadata": {},
   "outputs": [
    {
     "data": {
      "image/png": "[encoded data removed]",
      "text/plain": [
       "<Figure size 432x288 with 1 Axes>"
      ]
     },
     "metadata": {
      "needs_background": "light"
     },
     "output_type": "display_data"
    }
   ],
   "source": [
    "fpr, tpr, thresholds = roc_curve(train_target_dataset, predicted_forest)\n",
    "plt.figure()\n",
    "plt.plot(fpr, tpr)\n",
    "plt.xlim([0.0, 1.0])\n",
    "plt.ylim([0.0, 1.0])\n",
    "plt.xlabel(\"False Positive Rate\")\n",
    "plt.ylabel(\"True Positive Rate\")\n",
    "plt.title(\"ROC-кривая\")\n",
    "plt.plot([0.0, 1.0], [0.0, 1.0], linestyle='--')\n",
    "plt.show()"
   ]
  },
  {
   "cell_type": "markdown",
   "metadata": {},
   "source": [
    "**Вывод:**\n",
    "\n",
    "Прибегнув к стратификации и сбалансировав выборки удалось повысить полноту F1 меру во всех моделях за счет точности. Все модели показали меньшее значение accuracy, т.е. доля верно квалифицированных объектов упала. Модель логистической регрессии и случайного леса достигли поставленного уровня F1 меры, а также стали значительно лучше предсказывать отток клиентов за счет повышения полноты.\n",
    "___\n",
    "Модель логистической регрессии с дисбалансом классов:\n",
    "\n",
    "Accuracy: 0.80 | Recall: 0.23 | Precision: 0.56 | F1: 0.33\n",
    "\n",
    "Модель логистической регрессии после стратификации и нормализации данных: \n",
    "\n",
    "Accuracy: 0.67 | Recall: 0.68 | Precision: 0.60 | F1: 0.64\n",
    "___\n",
    "Модель решающего дерева с дисбалансом классов:\n",
    "\n",
    "Accuracy: 0.85 | Recall: 0.41 | Precision: 0.78 | F1: 0.54\n",
    "\n",
    "Модель решающего дерева после стратификации и нормализации данных:\n",
    "\n",
    "Accuracy: 0.73 | Recall: 0.77 | Precision: 0.42 | F1: 0.55\n",
    "___\n",
    "\n",
    "Модель случайного леса с дисбалансом классов:\n",
    "\n",
    "Accuracy: 0.88 | Recall: 0.43 | Precision: 0.81 | F1: 0.56\n",
    "\n",
    "Модель случайного леса после стратификации и нормализации данных:\n",
    "\n",
    "Accuracy: 0.81 | Recall: 0.70 | Precision: 0.53 | F1: 0.60\n",
    "___"
   ]
  },
  {
   "cell_type": "markdown",
   "metadata": {},
   "source": [
    "## Тестирование лучшей модели (случайный лес)"
   ]
  },
  {
   "cell_type": "code",
   "execution_count": 41,
   "metadata": {},
   "outputs": [
    {
     "name": "stdout",
     "output_type": "stream",
     "text": [
      "Accuracy: 0.8065\n",
      "Recall: 0.7199017199017199 \n",
      "Precision: 0.5176678445229682 \n",
      "F1: 0.6022610483042138\n"
     ]
    }
   ],
   "source": [
    "test_predicted = best_forest_model.predict(features_client_test)\n",
    "print('Accuracy:', accuracy_score(target_client_test, test_predicted))\n",
    "print('Recall:', recall_score(target_client_test, test_predicted), '\\n'\n",
    "      'Precision:', precision_score(target_client_test, test_predicted), '\\n' \n",
    "      'F1:', f1_score(target_client_test, test_predicted))"
   ]
  },
  {
   "cell_type": "code",
   "execution_count": 42,
   "metadata": {},
   "outputs": [
    {
     "name": "stdout",
     "output_type": "stream",
     "text": [
      "AUC-ROC: 0.77\n"
     ]
    }
   ],
   "source": [
    "auc_roc = roc_auc_score(target_client_test, test_predicted)\n",
    "print('AUC-ROC: {:.2f}'.format(auc_roc))"
   ]
  },
  {
   "cell_type": "code",
   "execution_count": 43,
   "metadata": {},
   "outputs": [
    {
     "data": {
      "image/png": "[encoded data removed]",
      "text/plain": [
       "<Figure size 432x288 with 1 Axes>"
      ]
     },
     "metadata": {
      "needs_background": "light"
     },
     "output_type": "display_data"
    }
   ],
   "source": [
    "fpr, tpr, thresholds = roc_curve(target_client_test, test_predicted)\n",
    "plt.figure()\n",
    "plt.plot(fpr, tpr)\n",
    "plt.xlim([0.0, 1.0])\n",
    "plt.ylim([0.0, 1.0])\n",
    "plt.xlabel(\"False Positive Rate\")\n",
    "plt.ylabel(\"True Positive Rate\")\n",
    "plt.title(\"ROC-кривая\")\n",
    "plt.plot([0.0, 1.0], [0.0, 1.0], linestyle='--')\n",
    "plt.show()"
   ]
  },
  {
   "cell_type": "markdown",
   "metadata": {},
   "source": [
    "**Вывод:**\n",
    "\n",
    "AUC-ROC модели стремится скорее к 1 нежели к 0.5. Тестовая выборка также показала, что переобучения модели нет. Accuracy = 0.81, Recall = 0.72, Precision = 0.51, F1 = 0.60. Модель отвечает заданным параметрам и предсказывает клиентов, которые перестали пользоваться услугами банка."
   ]
  },
  {
   "cell_type": "markdown",
   "metadata": {},
   "source": [
    "Если обучать модели без учета дисбаланса классов, то модель покажет результат близкий к полностью случайному предсказанию.\n",
    "\n",
    "По итогу стратификации данных, изменения их баланса и уменьшения выборки модель случайного леса смогла показать уровень F1 меры выше 0.60. При этом она верно предсказывет клиента, который хочет перестать пользоваться услугами банка в 72% случаев. Модель кажется приемлемой для решения поставленной задачи."
   ]
  }
 ],
 "metadata": {
  "ExecuteTimeLog": [
   {
    "duration": 1048,
    "start_time": "2022-09-27T05:28:04.944Z"
   },
   {
    "duration": 42,
    "start_time": "2022-09-27T05:28:06.028Z"
   },
   {
    "duration": 12,
    "start_time": "2022-09-27T05:28:22.771Z"
   },
   {
    "duration": 11,
    "start_time": "2022-09-27T05:30:24.143Z"
   },
   {
    "duration": 17,
    "start_time": "2022-09-27T05:30:44.687Z"
   },
   {
    "duration": 11,
    "start_time": "2022-09-27T05:30:58.143Z"
   },
   {
    "duration": 16,
    "start_time": "2022-09-27T05:34:42.166Z"
   },
   {
    "duration": 15,
    "start_time": "2022-09-27T05:35:05.033Z"
   },
   {
    "duration": 15,
    "start_time": "2022-09-27T05:35:51.188Z"
   },
   {
    "duration": 10,
    "start_time": "2022-09-27T05:38:04.338Z"
   },
   {
    "duration": 1109,
    "start_time": "2022-09-27T05:38:44.891Z"
   },
   {
    "duration": 41,
    "start_time": "2022-09-27T05:38:46.002Z"
   },
   {
    "duration": 12,
    "start_time": "2022-09-27T05:38:46.044Z"
   },
   {
    "duration": 14,
    "start_time": "2022-09-27T05:38:46.058Z"
   },
   {
    "duration": 11,
    "start_time": "2022-09-27T05:38:46.074Z"
   },
   {
    "duration": 11,
    "start_time": "2022-09-27T05:39:27.599Z"
   },
   {
    "duration": 4,
    "start_time": "2022-09-27T05:39:32.752Z"
   },
   {
    "duration": 4,
    "start_time": "2022-09-27T05:39:58.702Z"
   },
   {
    "duration": 3,
    "start_time": "2022-09-27T05:40:13.742Z"
   },
   {
    "duration": 11,
    "start_time": "2022-09-27T05:41:53.995Z"
   },
   {
    "duration": 103,
    "start_time": "2022-09-27T05:43:18.329Z"
   },
   {
    "duration": 5,
    "start_time": "2022-09-27T05:43:24.040Z"
   },
   {
    "duration": 3,
    "start_time": "2022-09-27T05:47:12.446Z"
   },
   {
    "duration": 14,
    "start_time": "2022-09-27T05:47:40.483Z"
   },
   {
    "duration": 10,
    "start_time": "2022-09-27T05:48:42.345Z"
   },
   {
    "duration": 9,
    "start_time": "2022-09-27T05:49:40.032Z"
   },
   {
    "duration": 9,
    "start_time": "2022-09-27T05:49:43.543Z"
   },
   {
    "duration": 9,
    "start_time": "2022-09-27T05:50:49.622Z"
   },
   {
    "duration": 10,
    "start_time": "2022-09-27T05:51:35.349Z"
   },
   {
    "duration": 848,
    "start_time": "2022-09-27T05:51:44.974Z"
   },
   {
    "duration": 9,
    "start_time": "2022-09-27T05:51:49.909Z"
   },
   {
    "duration": 51,
    "start_time": "2022-09-27T05:54:56.881Z"
   },
   {
    "duration": 84,
    "start_time": "2022-09-27T08:08:17.213Z"
   },
   {
    "duration": 1076,
    "start_time": "2022-09-27T08:08:22.477Z"
   },
   {
    "duration": 43,
    "start_time": "2022-09-27T08:08:23.555Z"
   },
   {
    "duration": 12,
    "start_time": "2022-09-27T08:08:23.599Z"
   },
   {
    "duration": 15,
    "start_time": "2022-09-27T08:08:23.612Z"
   },
   {
    "duration": 13,
    "start_time": "2022-09-27T08:08:23.629Z"
   },
   {
    "duration": 30,
    "start_time": "2022-09-27T08:08:23.643Z"
   },
   {
    "duration": 21,
    "start_time": "2022-09-27T08:08:23.675Z"
   },
   {
    "duration": 62,
    "start_time": "2022-09-27T08:08:23.698Z"
   },
   {
    "duration": 6,
    "start_time": "2022-09-27T08:08:30.121Z"
   },
   {
    "duration": 109,
    "start_time": "2022-09-27T08:09:08.369Z"
   },
   {
    "duration": 6,
    "start_time": "2022-09-27T08:09:26.151Z"
   },
   {
    "duration": 20,
    "start_time": "2022-09-27T08:11:40.412Z"
   },
   {
    "duration": 2,
    "start_time": "2022-09-27T08:14:35.201Z"
   },
   {
    "duration": 2,
    "start_time": "2022-09-27T08:14:35.720Z"
   },
   {
    "duration": 59,
    "start_time": "2022-09-27T14:32:49.926Z"
   },
   {
    "duration": 10,
    "start_time": "2022-09-27T14:33:13.564Z"
   },
   {
    "duration": 4,
    "start_time": "2022-09-27T14:34:07.091Z"
   },
   {
    "duration": 5,
    "start_time": "2022-09-27T14:34:44.649Z"
   },
   {
    "duration": 9,
    "start_time": "2022-09-27T14:35:15.537Z"
   },
   {
    "duration": 4,
    "start_time": "2022-09-27T14:35:16.848Z"
   },
   {
    "duration": 14,
    "start_time": "2022-09-27T14:39:09.195Z"
   },
   {
    "duration": 4,
    "start_time": "2022-09-27T14:39:09.474Z"
   },
   {
    "duration": 1147,
    "start_time": "2022-09-27T14:39:13.905Z"
   },
   {
    "duration": 43,
    "start_time": "2022-09-27T14:39:15.054Z"
   },
   {
    "duration": 12,
    "start_time": "2022-09-27T14:39:15.099Z"
   },
   {
    "duration": 15,
    "start_time": "2022-09-27T14:39:15.113Z"
   },
   {
    "duration": 4,
    "start_time": "2022-09-27T14:39:15.130Z"
   },
   {
    "duration": 9,
    "start_time": "2022-09-27T14:39:15.135Z"
   },
   {
    "duration": 4,
    "start_time": "2022-09-27T14:39:15.146Z"
   },
   {
    "duration": 4,
    "start_time": "2022-09-27T14:39:15.152Z"
   },
   {
    "duration": 11,
    "start_time": "2022-09-27T14:39:15.158Z"
   },
   {
    "duration": 3,
    "start_time": "2022-09-27T14:39:15.171Z"
   },
   {
    "duration": 218,
    "start_time": "2022-09-27T14:45:29.511Z"
   },
   {
    "duration": 1013,
    "start_time": "2022-09-27T14:47:04.966Z"
   },
   {
    "duration": 44,
    "start_time": "2022-09-27T14:47:05.981Z"
   },
   {
    "duration": 14,
    "start_time": "2022-09-27T14:47:06.027Z"
   },
   {
    "duration": 21,
    "start_time": "2022-09-27T14:47:06.043Z"
   },
   {
    "duration": 4,
    "start_time": "2022-09-27T14:47:06.067Z"
   },
   {
    "duration": 11,
    "start_time": "2022-09-27T14:47:06.072Z"
   },
   {
    "duration": 3,
    "start_time": "2022-09-27T14:47:06.108Z"
   },
   {
    "duration": 4,
    "start_time": "2022-09-27T14:47:06.113Z"
   },
   {
    "duration": 219,
    "start_time": "2022-09-27T14:47:06.118Z"
   },
   {
    "duration": 111,
    "start_time": "2022-09-27T14:47:06.339Z"
   },
   {
    "duration": 5,
    "start_time": "2022-09-27T14:47:06.451Z"
   },
   {
    "duration": 6,
    "start_time": "2022-09-27T18:10:31.836Z"
   },
   {
    "duration": 368,
    "start_time": "2022-09-27T18:16:40.156Z"
   },
   {
    "duration": 1018,
    "start_time": "2022-09-27T18:17:21.756Z"
   },
   {
    "duration": 42,
    "start_time": "2022-09-27T18:17:22.776Z"
   },
   {
    "duration": 12,
    "start_time": "2022-09-27T18:17:22.819Z"
   },
   {
    "duration": 16,
    "start_time": "2022-09-27T18:17:22.834Z"
   },
   {
    "duration": 4,
    "start_time": "2022-09-27T18:17:22.852Z"
   },
   {
    "duration": 7,
    "start_time": "2022-09-27T18:17:22.857Z"
   },
   {
    "duration": 12,
    "start_time": "2022-09-27T18:17:22.865Z"
   },
   {
    "duration": 231,
    "start_time": "2022-09-27T18:17:22.879Z"
   },
   {
    "duration": 107,
    "start_time": "2022-09-27T18:17:23.112Z"
   },
   {
    "duration": 4,
    "start_time": "2022-09-27T18:17:23.222Z"
   },
   {
    "duration": 11,
    "start_time": "2022-09-27T18:17:23.227Z"
   },
   {
    "duration": 285,
    "start_time": "2022-09-27T18:17:23.240Z"
   },
   {
    "duration": 49,
    "start_time": "2022-09-27T18:19:55.788Z"
   },
   {
    "duration": 55,
    "start_time": "2022-09-27T18:20:43.826Z"
   },
   {
    "duration": 0,
    "start_time": "2022-09-27T18:20:43.883Z"
   },
   {
    "duration": 0,
    "start_time": "2022-09-27T18:20:43.884Z"
   },
   {
    "duration": 0,
    "start_time": "2022-09-27T18:20:43.885Z"
   },
   {
    "duration": 0,
    "start_time": "2022-09-27T18:20:43.886Z"
   },
   {
    "duration": 0,
    "start_time": "2022-09-27T18:20:43.887Z"
   },
   {
    "duration": 0,
    "start_time": "2022-09-27T18:20:43.888Z"
   },
   {
    "duration": 0,
    "start_time": "2022-09-27T18:20:43.889Z"
   },
   {
    "duration": 0,
    "start_time": "2022-09-27T18:20:43.890Z"
   },
   {
    "duration": 0,
    "start_time": "2022-09-27T18:20:43.891Z"
   },
   {
    "duration": 0,
    "start_time": "2022-09-27T18:20:43.892Z"
   },
   {
    "duration": 0,
    "start_time": "2022-09-27T18:20:43.893Z"
   },
   {
    "duration": 64,
    "start_time": "2022-09-27T18:21:02.185Z"
   },
   {
    "duration": 1057,
    "start_time": "2022-09-27T18:21:13.443Z"
   },
   {
    "duration": 4,
    "start_time": "2022-09-27T18:21:25.746Z"
   },
   {
    "duration": 1115,
    "start_time": "2022-09-27T18:21:29.277Z"
   },
   {
    "duration": 42,
    "start_time": "2022-09-27T18:21:30.395Z"
   },
   {
    "duration": 12,
    "start_time": "2022-09-27T18:21:30.439Z"
   },
   {
    "duration": 27,
    "start_time": "2022-09-27T18:21:30.453Z"
   },
   {
    "duration": 6,
    "start_time": "2022-09-27T18:21:30.482Z"
   },
   {
    "duration": 10,
    "start_time": "2022-09-27T18:21:30.490Z"
   },
   {
    "duration": 15,
    "start_time": "2022-09-27T18:21:30.501Z"
   },
   {
    "duration": 226,
    "start_time": "2022-09-27T18:21:30.517Z"
   },
   {
    "duration": 111,
    "start_time": "2022-09-27T18:21:30.744Z"
   },
   {
    "duration": 4,
    "start_time": "2022-09-27T18:21:30.857Z"
   },
   {
    "duration": 17,
    "start_time": "2022-09-27T18:21:30.862Z"
   },
   {
    "duration": 61,
    "start_time": "2022-09-27T18:21:30.880Z"
   },
   {
    "duration": 279,
    "start_time": "2022-09-27T18:21:40.681Z"
   },
   {
    "duration": 279,
    "start_time": "2022-09-27T18:22:40.458Z"
   },
   {
    "duration": 269,
    "start_time": "2022-09-27T18:23:02.679Z"
   },
   {
    "duration": 49,
    "start_time": "2022-09-27T18:23:10.467Z"
   },
   {
    "duration": 327,
    "start_time": "2022-09-27T18:23:14.224Z"
   },
   {
    "duration": 267,
    "start_time": "2022-09-27T18:23:30.639Z"
   },
   {
    "duration": 275,
    "start_time": "2022-09-27T18:23:40.719Z"
   },
   {
    "duration": 159,
    "start_time": "2022-09-27T18:30:34.988Z"
   },
   {
    "duration": 1044,
    "start_time": "2022-09-27T18:41:28.348Z"
   },
   {
    "duration": 42,
    "start_time": "2022-09-27T18:41:29.394Z"
   },
   {
    "duration": 12,
    "start_time": "2022-09-27T18:41:29.438Z"
   },
   {
    "duration": 17,
    "start_time": "2022-09-27T18:41:29.452Z"
   },
   {
    "duration": 4,
    "start_time": "2022-09-27T18:41:29.472Z"
   },
   {
    "duration": 4,
    "start_time": "2022-09-27T18:41:29.477Z"
   },
   {
    "duration": 28,
    "start_time": "2022-09-27T18:41:29.482Z"
   },
   {
    "duration": 223,
    "start_time": "2022-09-27T18:41:29.512Z"
   },
   {
    "duration": 106,
    "start_time": "2022-09-27T18:41:29.736Z"
   },
   {
    "duration": 4,
    "start_time": "2022-09-27T18:41:29.844Z"
   },
   {
    "duration": 6,
    "start_time": "2022-09-27T18:41:29.850Z"
   },
   {
    "duration": 300,
    "start_time": "2022-09-27T18:41:29.858Z"
   },
   {
    "duration": 14,
    "start_time": "2022-09-27T18:41:30.160Z"
   },
   {
    "duration": 1208,
    "start_time": "2022-09-28T05:40:37.856Z"
   },
   {
    "duration": 164,
    "start_time": "2022-09-28T05:40:39.066Z"
   },
   {
    "duration": 13,
    "start_time": "2022-09-28T05:40:39.231Z"
   },
   {
    "duration": 18,
    "start_time": "2022-09-28T05:40:39.246Z"
   },
   {
    "duration": 5,
    "start_time": "2022-09-28T05:40:39.267Z"
   },
   {
    "duration": 15,
    "start_time": "2022-09-28T05:40:39.274Z"
   },
   {
    "duration": 6,
    "start_time": "2022-09-28T05:40:39.291Z"
   },
   {
    "duration": 192,
    "start_time": "2022-09-28T05:40:39.298Z"
   },
   {
    "duration": 131,
    "start_time": "2022-09-28T05:40:39.491Z"
   },
   {
    "duration": 4,
    "start_time": "2022-09-28T05:40:39.624Z"
   },
   {
    "duration": 7,
    "start_time": "2022-09-28T05:40:39.630Z"
   },
   {
    "duration": 315,
    "start_time": "2022-09-28T05:40:39.639Z"
   },
   {
    "duration": 14,
    "start_time": "2022-09-28T05:40:39.956Z"
   },
   {
    "duration": 1505,
    "start_time": "2022-10-01T07:12:08.316Z"
   },
   {
    "duration": 183,
    "start_time": "2022-10-01T07:12:09.823Z"
   },
   {
    "duration": 14,
    "start_time": "2022-10-01T07:12:10.777Z"
   },
   {
    "duration": 2,
    "start_time": "2022-10-01T07:12:12.345Z"
   },
   {
    "duration": 7,
    "start_time": "2022-10-01T07:12:13.790Z"
   },
   {
    "duration": 15,
    "start_time": "2022-10-01T07:12:27.123Z"
   },
   {
    "duration": 113,
    "start_time": "2022-10-01T07:14:30.559Z"
   },
   {
    "duration": 20,
    "start_time": "2022-10-01T07:14:34.641Z"
   },
   {
    "duration": 13,
    "start_time": "2022-10-01T07:14:44.577Z"
   },
   {
    "duration": 93,
    "start_time": "2022-10-01T07:14:54.237Z"
   },
   {
    "duration": 11,
    "start_time": "2022-10-01T07:14:55.087Z"
   },
   {
    "duration": 13,
    "start_time": "2022-10-01T07:14:57.829Z"
   },
   {
    "duration": 17,
    "start_time": "2022-10-01T07:22:35.723Z"
   },
   {
    "duration": 74,
    "start_time": "2022-10-01T07:22:43.170Z"
   },
   {
    "duration": 13,
    "start_time": "2022-10-01T07:22:44.008Z"
   },
   {
    "duration": 13,
    "start_time": "2022-10-01T07:22:44.321Z"
   },
   {
    "duration": 3,
    "start_time": "2022-10-01T07:22:44.816Z"
   },
   {
    "duration": 15,
    "start_time": "2022-10-01T07:22:45.065Z"
   },
   {
    "duration": 4,
    "start_time": "2022-10-01T07:22:47.921Z"
   },
   {
    "duration": 13,
    "start_time": "2022-10-01T07:22:48.288Z"
   },
   {
    "duration": 24,
    "start_time": "2022-10-01T07:22:48.520Z"
   },
   {
    "duration": 14,
    "start_time": "2022-10-01T07:22:51.761Z"
   },
   {
    "duration": 11,
    "start_time": "2022-10-01T07:22:52.769Z"
   },
   {
    "duration": 5,
    "start_time": "2022-10-01T07:22:54.272Z"
   },
   {
    "duration": 4,
    "start_time": "2022-10-01T07:22:55.785Z"
   },
   {
    "duration": 28,
    "start_time": "2022-10-01T07:23:56.545Z"
   },
   {
    "duration": 4,
    "start_time": "2022-10-01T07:31:20.721Z"
   },
   {
    "duration": 74,
    "start_time": "2022-10-01T07:31:21.276Z"
   },
   {
    "duration": 12,
    "start_time": "2022-10-01T07:31:21.557Z"
   },
   {
    "duration": 13,
    "start_time": "2022-10-01T07:31:21.684Z"
   },
   {
    "duration": 2,
    "start_time": "2022-10-01T07:31:21.972Z"
   },
   {
    "duration": 15,
    "start_time": "2022-10-01T07:31:22.109Z"
   },
   {
    "duration": 4,
    "start_time": "2022-10-01T07:31:22.644Z"
   },
   {
    "duration": 13,
    "start_time": "2022-10-01T07:31:22.788Z"
   },
   {
    "duration": 23,
    "start_time": "2022-10-01T07:31:22.948Z"
   },
   {
    "duration": 13,
    "start_time": "2022-10-01T07:31:23.724Z"
   },
   {
    "duration": 9,
    "start_time": "2022-10-01T07:31:23.875Z"
   },
   {
    "duration": 6,
    "start_time": "2022-10-01T07:31:24.036Z"
   },
   {
    "duration": 5,
    "start_time": "2022-10-01T07:31:24.348Z"
   },
   {
    "duration": 19,
    "start_time": "2022-10-01T07:31:25.555Z"
   },
   {
    "duration": 13,
    "start_time": "2022-10-01T07:31:26.332Z"
   },
   {
    "duration": 11,
    "start_time": "2022-10-01T07:31:26.629Z"
   },
   {
    "duration": 9,
    "start_time": "2022-10-01T07:31:28.588Z"
   },
   {
    "duration": 9,
    "start_time": "2022-10-01T07:33:29.714Z"
   },
   {
    "duration": 11,
    "start_time": "2022-10-01T07:33:55.496Z"
   },
   {
    "duration": 4,
    "start_time": "2022-10-01T07:33:56.001Z"
   },
   {
    "duration": 22,
    "start_time": "2022-10-01T07:33:57.328Z"
   },
   {
    "duration": 17,
    "start_time": "2022-10-01T07:34:12.472Z"
   },
   {
    "duration": 335,
    "start_time": "2022-10-01T07:35:35.454Z"
   },
   {
    "duration": 1385,
    "start_time": "2022-10-01T07:48:52.266Z"
   },
   {
    "duration": 80,
    "start_time": "2022-10-01T07:48:53.653Z"
   },
   {
    "duration": 13,
    "start_time": "2022-10-01T07:48:53.735Z"
   },
   {
    "duration": 18,
    "start_time": "2022-10-01T07:48:53.750Z"
   },
   {
    "duration": 2,
    "start_time": "2022-10-01T07:48:53.770Z"
   },
   {
    "duration": 21,
    "start_time": "2022-10-01T07:48:53.774Z"
   },
   {
    "duration": 3,
    "start_time": "2022-10-01T07:48:53.797Z"
   },
   {
    "duration": 17,
    "start_time": "2022-10-01T07:48:53.802Z"
   },
   {
    "duration": 27,
    "start_time": "2022-10-01T07:48:53.820Z"
   },
   {
    "duration": 13,
    "start_time": "2022-10-01T07:48:53.848Z"
   },
   {
    "duration": 37,
    "start_time": "2022-10-01T07:48:53.863Z"
   },
   {
    "duration": 6,
    "start_time": "2022-10-01T07:48:53.902Z"
   },
   {
    "duration": 8,
    "start_time": "2022-10-01T07:48:53.910Z"
   },
   {
    "duration": 21,
    "start_time": "2022-10-01T07:48:53.922Z"
   },
   {
    "duration": 11,
    "start_time": "2022-10-01T07:48:53.946Z"
   },
   {
    "duration": 39,
    "start_time": "2022-10-01T07:48:53.959Z"
   },
   {
    "duration": 31,
    "start_time": "2022-10-01T07:48:54.000Z"
   },
   {
    "duration": 6,
    "start_time": "2022-10-01T07:48:54.033Z"
   },
   {
    "duration": 29,
    "start_time": "2022-10-01T07:48:54.041Z"
   },
   {
    "duration": 25,
    "start_time": "2022-10-01T07:48:54.072Z"
   },
   {
    "duration": 1352,
    "start_time": "2022-10-01T07:50:44.974Z"
   },
   {
    "duration": 78,
    "start_time": "2022-10-01T07:50:46.328Z"
   },
   {
    "duration": 14,
    "start_time": "2022-10-01T07:50:46.407Z"
   },
   {
    "duration": 17,
    "start_time": "2022-10-01T07:50:46.422Z"
   },
   {
    "duration": 2,
    "start_time": "2022-10-01T07:50:46.441Z"
   },
   {
    "duration": 18,
    "start_time": "2022-10-01T07:50:46.444Z"
   },
   {
    "duration": 3,
    "start_time": "2022-10-01T07:50:46.464Z"
   },
   {
    "duration": 40,
    "start_time": "2022-10-01T07:50:46.469Z"
   },
   {
    "duration": 26,
    "start_time": "2022-10-01T07:50:46.511Z"
   },
   {
    "duration": 13,
    "start_time": "2022-10-01T07:50:46.539Z"
   },
   {
    "duration": 11,
    "start_time": "2022-10-01T07:50:46.553Z"
   },
   {
    "duration": 15,
    "start_time": "2022-10-01T07:50:46.565Z"
   },
   {
    "duration": 19,
    "start_time": "2022-10-01T07:50:46.581Z"
   },
   {
    "duration": 33,
    "start_time": "2022-10-01T07:50:46.603Z"
   },
   {
    "duration": 9,
    "start_time": "2022-10-01T07:50:46.637Z"
   },
   {
    "duration": 4,
    "start_time": "2022-10-01T07:50:46.648Z"
   },
   {
    "duration": 21,
    "start_time": "2022-10-01T07:50:46.654Z"
   },
   {
    "duration": 22,
    "start_time": "2022-10-01T07:50:46.677Z"
   },
   {
    "duration": 33,
    "start_time": "2022-10-01T07:50:46.701Z"
   },
   {
    "duration": 7,
    "start_time": "2022-10-01T07:50:46.736Z"
   },
   {
    "duration": 206909,
    "start_time": "2022-10-01T07:50:46.745Z"
   },
   {
    "duration": 3,
    "start_time": "2022-10-01T07:54:13.656Z"
   },
   {
    "duration": 342,
    "start_time": "2022-10-01T07:54:13.661Z"
   },
   {
    "duration": 98,
    "start_time": "2022-10-01T07:54:14.004Z"
   },
   {
    "duration": 6,
    "start_time": "2022-10-01T07:54:14.104Z"
   },
   {
    "duration": 143,
    "start_time": "2022-10-01T07:54:14.112Z"
   },
   {
    "duration": 4,
    "start_time": "2022-10-01T07:54:14.256Z"
   },
   {
    "duration": 7,
    "start_time": "2022-10-01T07:54:14.262Z"
   },
   {
    "duration": 8,
    "start_time": "2022-10-01T07:54:14.270Z"
   },
   {
    "duration": 16,
    "start_time": "2022-10-01T07:54:14.280Z"
   },
   {
    "duration": 124,
    "start_time": "2022-10-01T07:54:14.298Z"
   },
   {
    "duration": 0,
    "start_time": "2022-10-01T07:54:14.424Z"
   },
   {
    "duration": 0,
    "start_time": "2022-10-01T07:54:14.425Z"
   },
   {
    "duration": 0,
    "start_time": "2022-10-01T07:54:14.426Z"
   },
   {
    "duration": 0,
    "start_time": "2022-10-01T07:54:14.428Z"
   },
   {
    "duration": 0,
    "start_time": "2022-10-01T07:54:14.428Z"
   },
   {
    "duration": 0,
    "start_time": "2022-10-01T07:54:14.429Z"
   },
   {
    "duration": 0,
    "start_time": "2022-10-01T07:54:14.430Z"
   },
   {
    "duration": 0,
    "start_time": "2022-10-01T07:54:14.431Z"
   },
   {
    "duration": 0,
    "start_time": "2022-10-01T07:54:14.432Z"
   },
   {
    "duration": 22,
    "start_time": "2022-10-01T08:02:45.247Z"
   },
   {
    "duration": 7,
    "start_time": "2022-10-01T08:03:36.827Z"
   },
   {
    "duration": 22,
    "start_time": "2022-10-01T08:04:07.076Z"
   },
   {
    "duration": 10,
    "start_time": "2022-10-01T08:04:21.010Z"
   },
   {
    "duration": 7,
    "start_time": "2022-10-01T08:08:22.539Z"
   },
   {
    "duration": 8,
    "start_time": "2022-10-01T08:08:29.099Z"
   },
   {
    "duration": 1358,
    "start_time": "2022-10-01T08:08:35.626Z"
   },
   {
    "duration": 79,
    "start_time": "2022-10-01T08:08:36.986Z"
   },
   {
    "duration": 15,
    "start_time": "2022-10-01T08:08:37.066Z"
   },
   {
    "duration": 18,
    "start_time": "2022-10-01T08:08:37.083Z"
   },
   {
    "duration": 3,
    "start_time": "2022-10-01T08:08:37.102Z"
   },
   {
    "duration": 17,
    "start_time": "2022-10-01T08:08:37.106Z"
   },
   {
    "duration": 4,
    "start_time": "2022-10-01T08:08:37.125Z"
   },
   {
    "duration": 16,
    "start_time": "2022-10-01T08:08:37.130Z"
   },
   {
    "duration": 47,
    "start_time": "2022-10-01T08:08:37.148Z"
   },
   {
    "duration": 13,
    "start_time": "2022-10-01T08:08:37.198Z"
   },
   {
    "duration": 10,
    "start_time": "2022-10-01T08:08:37.213Z"
   },
   {
    "duration": 7,
    "start_time": "2022-10-01T08:08:37.224Z"
   },
   {
    "duration": 5,
    "start_time": "2022-10-01T08:08:37.232Z"
   },
   {
    "duration": 20,
    "start_time": "2022-10-01T08:08:37.239Z"
   },
   {
    "duration": 35,
    "start_time": "2022-10-01T08:08:37.261Z"
   },
   {
    "duration": 5,
    "start_time": "2022-10-01T08:08:37.297Z"
   },
   {
    "duration": 22,
    "start_time": "2022-10-01T08:08:37.303Z"
   },
   {
    "duration": 5,
    "start_time": "2022-10-01T08:08:37.326Z"
   },
   {
    "duration": 26,
    "start_time": "2022-10-01T08:08:37.332Z"
   },
   {
    "duration": 5,
    "start_time": "2022-10-01T08:08:37.360Z"
   },
   {
    "duration": 212909,
    "start_time": "2022-10-01T08:08:37.396Z"
   },
   {
    "duration": 3,
    "start_time": "2022-10-01T08:12:10.307Z"
   },
   {
    "duration": 385,
    "start_time": "2022-10-01T08:12:10.311Z"
   },
   {
    "duration": 95,
    "start_time": "2022-10-01T08:12:10.701Z"
   },
   {
    "duration": 69,
    "start_time": "2022-10-01T08:12:10.798Z"
   },
   {
    "duration": 4,
    "start_time": "2022-10-01T08:12:10.869Z"
   },
   {
    "duration": 8,
    "start_time": "2022-10-01T08:12:10.874Z"
   },
   {
    "duration": 12,
    "start_time": "2022-10-01T08:12:10.885Z"
   },
   {
    "duration": 9,
    "start_time": "2022-10-01T08:12:10.898Z"
   },
   {
    "duration": 11,
    "start_time": "2022-10-01T08:12:10.908Z"
   },
   {
    "duration": 132,
    "start_time": "2022-10-01T08:12:10.920Z"
   },
   {
    "duration": 0,
    "start_time": "2022-10-01T08:12:11.053Z"
   },
   {
    "duration": 0,
    "start_time": "2022-10-01T08:12:11.054Z"
   },
   {
    "duration": 0,
    "start_time": "2022-10-01T08:12:11.055Z"
   },
   {
    "duration": 0,
    "start_time": "2022-10-01T08:12:11.056Z"
   },
   {
    "duration": 0,
    "start_time": "2022-10-01T08:12:11.057Z"
   },
   {
    "duration": 0,
    "start_time": "2022-10-01T08:12:11.059Z"
   },
   {
    "duration": 0,
    "start_time": "2022-10-01T08:12:11.059Z"
   },
   {
    "duration": 0,
    "start_time": "2022-10-01T08:12:11.061Z"
   },
   {
    "duration": 0,
    "start_time": "2022-10-01T08:12:11.062Z"
   },
   {
    "duration": 4,
    "start_time": "2022-10-01T08:15:23.848Z"
   },
   {
    "duration": 21,
    "start_time": "2022-10-01T08:15:28.496Z"
   },
   {
    "duration": 5,
    "start_time": "2022-10-01T08:18:20.612Z"
   },
   {
    "duration": 19,
    "start_time": "2022-10-01T08:18:30.235Z"
   },
   {
    "duration": 105,
    "start_time": "2022-10-01T08:18:40.793Z"
   },
   {
    "duration": 1377,
    "start_time": "2022-10-01T08:19:01.045Z"
   },
   {
    "duration": 86,
    "start_time": "2022-10-01T08:19:02.424Z"
   },
   {
    "duration": 14,
    "start_time": "2022-10-01T08:19:02.511Z"
   },
   {
    "duration": 19,
    "start_time": "2022-10-01T08:19:02.527Z"
   },
   {
    "duration": 3,
    "start_time": "2022-10-01T08:19:02.548Z"
   },
   {
    "duration": 17,
    "start_time": "2022-10-01T08:19:02.552Z"
   },
   {
    "duration": 26,
    "start_time": "2022-10-01T08:19:02.571Z"
   },
   {
    "duration": 14,
    "start_time": "2022-10-01T08:19:02.598Z"
   },
   {
    "duration": 26,
    "start_time": "2022-10-01T08:19:02.613Z"
   },
   {
    "duration": 12,
    "start_time": "2022-10-01T08:19:02.641Z"
   },
   {
    "duration": 11,
    "start_time": "2022-10-01T08:19:02.654Z"
   },
   {
    "duration": 28,
    "start_time": "2022-10-01T08:19:02.667Z"
   },
   {
    "duration": 5,
    "start_time": "2022-10-01T08:19:02.697Z"
   },
   {
    "duration": 24,
    "start_time": "2022-10-01T08:19:02.704Z"
   },
   {
    "duration": 10,
    "start_time": "2022-10-01T08:19:02.729Z"
   },
   {
    "duration": 4,
    "start_time": "2022-10-01T08:19:02.741Z"
   },
   {
    "duration": 48,
    "start_time": "2022-10-01T08:19:02.747Z"
   },
   {
    "duration": 7,
    "start_time": "2022-10-01T08:19:02.797Z"
   },
   {
    "duration": 36,
    "start_time": "2022-10-01T08:19:02.805Z"
   },
   {
    "duration": 9,
    "start_time": "2022-10-01T08:19:02.843Z"
   },
   {
    "duration": 211288,
    "start_time": "2022-10-01T08:19:02.853Z"
   },
   {
    "duration": 4,
    "start_time": "2022-10-01T08:22:34.142Z"
   },
   {
    "duration": 451,
    "start_time": "2022-10-01T08:22:34.148Z"
   },
   {
    "duration": 93,
    "start_time": "2022-10-01T08:22:34.604Z"
   },
   {
    "duration": 64,
    "start_time": "2022-10-01T08:22:34.698Z"
   },
   {
    "duration": 4,
    "start_time": "2022-10-01T08:22:34.764Z"
   },
   {
    "duration": 8,
    "start_time": "2022-10-01T08:22:34.770Z"
   },
   {
    "duration": 23,
    "start_time": "2022-10-01T08:22:34.780Z"
   },
   {
    "duration": 7,
    "start_time": "2022-10-01T08:22:34.805Z"
   },
   {
    "duration": 18,
    "start_time": "2022-10-01T08:22:34.814Z"
   },
   {
    "duration": 62,
    "start_time": "2022-10-01T08:22:34.834Z"
   },
   {
    "duration": 437,
    "start_time": "2022-10-01T08:22:34.899Z"
   },
   {
    "duration": 29,
    "start_time": "2022-10-01T08:22:35.338Z"
   },
   {
    "duration": 26,
    "start_time": "2022-10-01T08:22:35.369Z"
   },
   {
    "duration": 220376,
    "start_time": "2022-10-01T08:22:35.397Z"
   },
   {
    "duration": 3,
    "start_time": "2022-10-01T08:26:15.775Z"
   },
   {
    "duration": 27,
    "start_time": "2022-10-01T08:26:15.780Z"
   },
   {
    "duration": 5,
    "start_time": "2022-10-01T08:26:15.809Z"
   },
   {
    "duration": 144,
    "start_time": "2022-10-01T08:26:15.816Z"
   },
   {
    "duration": 419,
    "start_time": "2022-10-01T08:26:15.963Z"
   },
   {
    "duration": 295,
    "start_time": "2022-10-01T08:39:35.675Z"
   },
   {
    "duration": 15,
    "start_time": "2022-10-01T08:40:33.051Z"
   },
   {
    "duration": 13,
    "start_time": "2022-10-01T08:41:00.953Z"
   },
   {
    "duration": 15,
    "start_time": "2022-10-01T08:41:14.405Z"
   },
   {
    "duration": 14,
    "start_time": "2022-10-01T08:41:16.425Z"
   },
   {
    "duration": 11,
    "start_time": "2022-10-01T08:42:42.630Z"
   },
   {
    "duration": 22,
    "start_time": "2022-10-01T08:42:53.918Z"
   },
   {
    "duration": 14,
    "start_time": "2022-10-01T08:42:58.519Z"
   },
   {
    "duration": 35,
    "start_time": "2022-10-01T08:43:24.661Z"
   },
   {
    "duration": 6,
    "start_time": "2022-10-01T08:43:47.356Z"
   },
   {
    "duration": 120,
    "start_time": "2022-10-01T08:43:49.260Z"
   },
   {
    "duration": 9,
    "start_time": "2022-10-01T08:46:04.242Z"
   },
   {
    "duration": 192,
    "start_time": "2022-10-01T08:46:59.767Z"
   },
   {
    "duration": 16,
    "start_time": "2022-10-01T08:54:34.448Z"
   },
   {
    "duration": 151,
    "start_time": "2022-10-01T08:54:56.547Z"
   },
   {
    "duration": 19,
    "start_time": "2022-10-01T08:55:28.737Z"
   },
   {
    "duration": 6,
    "start_time": "2022-10-01T08:55:29.266Z"
   },
   {
    "duration": 23,
    "start_time": "2022-10-01T08:55:29.787Z"
   },
   {
    "duration": 141,
    "start_time": "2022-10-01T08:55:38.790Z"
   },
   {
    "duration": 1444,
    "start_time": "2022-10-01T08:57:33.191Z"
   },
   {
    "duration": 84,
    "start_time": "2022-10-01T08:57:34.637Z"
   },
   {
    "duration": 16,
    "start_time": "2022-10-01T08:57:34.722Z"
   },
   {
    "duration": 18,
    "start_time": "2022-10-01T08:57:34.740Z"
   },
   {
    "duration": 2,
    "start_time": "2022-10-01T08:57:34.761Z"
   },
   {
    "duration": 45,
    "start_time": "2022-10-01T08:57:34.765Z"
   },
   {
    "duration": 5,
    "start_time": "2022-10-01T08:57:34.812Z"
   },
   {
    "duration": 36,
    "start_time": "2022-10-01T08:57:34.819Z"
   },
   {
    "duration": 44,
    "start_time": "2022-10-01T08:57:34.858Z"
   },
   {
    "duration": 14,
    "start_time": "2022-10-01T08:57:34.903Z"
   },
   {
    "duration": 13,
    "start_time": "2022-10-01T08:57:34.919Z"
   },
   {
    "duration": 5,
    "start_time": "2022-10-01T08:57:34.935Z"
   },
   {
    "duration": 8,
    "start_time": "2022-10-01T08:57:34.942Z"
   },
   {
    "duration": 51,
    "start_time": "2022-10-01T08:57:34.953Z"
   },
   {
    "duration": 14,
    "start_time": "2022-10-01T08:57:35.006Z"
   },
   {
    "duration": 6,
    "start_time": "2022-10-01T08:57:35.023Z"
   },
   {
    "duration": 36,
    "start_time": "2022-10-01T08:57:35.031Z"
   },
   {
    "duration": 32,
    "start_time": "2022-10-01T08:57:35.069Z"
   },
   {
    "duration": 30,
    "start_time": "2022-10-01T08:57:35.103Z"
   },
   {
    "duration": 6,
    "start_time": "2022-10-01T08:57:35.135Z"
   },
   {
    "duration": 230177,
    "start_time": "2022-10-01T08:57:35.143Z"
   },
   {
    "duration": 4,
    "start_time": "2022-10-01T09:01:25.322Z"
   },
   {
    "duration": 466,
    "start_time": "2022-10-01T09:01:25.329Z"
   },
   {
    "duration": 8,
    "start_time": "2022-10-01T09:01:25.797Z"
   },
   {
    "duration": 148,
    "start_time": "2022-10-01T09:01:25.807Z"
   },
   {
    "duration": 5,
    "start_time": "2022-10-01T09:01:25.957Z"
   },
   {
    "duration": 8,
    "start_time": "2022-10-01T09:01:25.964Z"
   },
   {
    "duration": 21,
    "start_time": "2022-10-01T09:01:25.974Z"
   },
   {
    "duration": 5,
    "start_time": "2022-10-01T09:01:25.997Z"
   },
   {
    "duration": 34,
    "start_time": "2022-10-01T09:01:26.004Z"
   },
   {
    "duration": 161,
    "start_time": "2022-10-01T09:01:26.040Z"
   },
   {
    "duration": 509,
    "start_time": "2022-10-01T09:01:26.203Z"
   },
   {
    "duration": 14,
    "start_time": "2022-10-01T09:01:26.715Z"
   },
   {
    "duration": 299,
    "start_time": "2022-10-01T09:01:26.731Z"
   },
   {
    "duration": 35,
    "start_time": "2022-10-01T09:01:27.033Z"
   },
   {
    "duration": 28,
    "start_time": "2022-10-01T09:01:27.070Z"
   },
   {
    "duration": 235489,
    "start_time": "2022-10-01T09:01:27.100Z"
   },
   {
    "duration": 3,
    "start_time": "2022-10-01T09:05:22.595Z"
   },
   {
    "duration": 24,
    "start_time": "2022-10-01T09:05:22.600Z"
   },
   {
    "duration": 137,
    "start_time": "2022-10-01T09:05:22.626Z"
   },
   {
    "duration": 28,
    "start_time": "2022-10-01T09:05:22.767Z"
   },
   {
    "duration": 6,
    "start_time": "2022-10-01T09:05:22.797Z"
   },
   {
    "duration": 261,
    "start_time": "2022-10-01T09:05:22.805Z"
   },
   {
    "duration": 1546,
    "start_time": "2022-10-12T18:11:31.520Z"
   }
  ],
  "kernelspec": {
   "display_name": "Python 3 (ipykernel)",
   "language": "python",
   "name": "python3"
  },
  "language_info": {
   "codemirror_mode": {
    "name": "ipython",
    "version": 3
   },
   "file_extension": ".py",
   "mimetype": "text/x-python",
   "name": "python",
   "nbconvert_exporter": "python",
   "pygments_lexer": "ipython3",
   "version": "3.9.15"
  },
  "toc": {
   "base_numbering": 1,
   "nav_menu": {},
   "number_sections": true,
   "sideBar": true,
   "skip_h1_title": true,
   "title_cell": "Содержание",
   "title_sidebar": "Contents",
   "toc_cell": true,
   "toc_position": {
    "height": "calc(100% - 180px)",
    "left": "10px",
    "top": "150px",
    "width": "165px"
   },
   "toc_section_display": true,
   "toc_window_display": true
  }
 },
 "nbformat": 4,
 "nbformat_minor": 2
}
