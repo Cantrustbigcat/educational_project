{
 "cells": [
  {
   "cell_type": "markdown",
   "id": "af7482fb",
   "metadata": {},
   "source": [
    "# Проект по выявлению токсичных комментариев\n"
   ]
  },
  {
   "cell_type": "markdown",
   "id": "af2eeeef",
   "metadata": {},
   "source": [
    "В рамках проекта заказчик предоставил массив данных с комментариями к товарам на своей платформе.\n",
    "\n",
    "Перед нами поставлена задача по построению модели для предсказания тональности комментария. Значение метрики качества модели F1 должно быть не менее 0.75. На основе предсказания предполагается отправлять предположительно токсичные комментарии на модерацию."
   ]
  },
  {
   "cell_type": "markdown",
   "id": "813a031d",
   "metadata": {},
   "source": [
    "## Подготовка данных"
   ]
  },
  {
   "cell_type": "markdown",
   "id": "1eeda187",
   "metadata": {},
   "source": [
    "### Установка библиотек"
   ]
  },
  {
   "cell_type": "code",
   "execution_count": 1,
   "id": "6decd31d",
   "metadata": {},
   "outputs": [],
   "source": [
    "#!pip install -q lightgbm"
   ]
  },
  {
   "cell_type": "markdown",
   "id": "2da17ff9",
   "metadata": {},
   "source": [
    "### Импорт библиотек"
   ]
  },
  {
   "cell_type": "code",
   "execution_count": 2,
   "id": "351797ea",
   "metadata": {},
   "outputs": [],
   "source": [
    "import matplotlib.pyplot as plt\n",
    "import nltk\n",
    "import numpy as np\n",
    "import os\n",
    "import pandas as pd\n",
    "import re\n",
    "import seaborn as sns\n",
    "import warnings\n",
    "from lightgbm import LGBMClassifier\n",
    "from nltk.corpus import stopwords as nltk_stopwords\n",
    "from nltk.corpus import wordnet\n",
    "from nltk.stem.wordnet import WordNetLemmatizer\n",
    "from nltk.tokenize import word_tokenize\n",
    "from numpy import mean\n",
    "from sklearn.dummy import DummyClassifier\n",
    "from sklearn.ensemble import RandomForestClassifier\n",
    "from sklearn.feature_extraction.text import TfidfVectorizer\n",
    "from sklearn.linear_model import LogisticRegression\n",
    "from sklearn.metrics import (\n",
    "    f1_score,\n",
    "    classification_report,\n",
    "    confusion_matrix\n",
    ")\n",
    "from sklearn.metrics import (\n",
    "    roc_curve,\n",
    "    roc_auc_score,\n",
    "    precision_recall_curve\n",
    ")\n",
    "from sklearn.metrics import (\n",
    "    precision_score,\n",
    "    recall_score\n",
    ")\n",
    "from sklearn.model_selection import (\n",
    "    train_test_split,\n",
    "    cross_val_score\n",
    ")\n",
    "from sklearn.model_selection import (\n",
    "    RepeatedStratifiedKFold,\n",
    "    GridSearchCV\n",
    ")\n",
    "from sklearn.pipeline import (\n",
    "    Pipeline,\n",
    "    make_pipeline\n",
    ")\n",
    "from sklearn.utils import shuffle\n",
    "from tqdm.notebook import tqdm"
   ]
  },
  {
   "cell_type": "code",
   "execution_count": 3,
   "id": "768db9d1",
   "metadata": {},
   "outputs": [
    {
     "name": "stderr",
     "output_type": "stream",
     "text": [
      "[nltk_data] Downloading package stopwords to\n",
      "[nltk_data]     C:\\Users\\tempe\\AppData\\Roaming\\nltk_data...\n",
      "[nltk_data]   Package stopwords is already up-to-date!\n",
      "[nltk_data] Downloading package punkt to\n",
      "[nltk_data]     C:\\Users\\tempe\\AppData\\Roaming\\nltk_data...\n",
      "[nltk_data]   Package punkt is already up-to-date!\n",
      "[nltk_data] Downloading package averaged_perceptron_tagger to\n",
      "[nltk_data]     C:\\Users\\tempe\\AppData\\Roaming\\nltk_data...\n",
      "[nltk_data]   Package averaged_perceptron_tagger is already up-to-\n",
      "[nltk_data]       date!\n",
      "[nltk_data] Downloading package wordnet to\n",
      "[nltk_data]     C:\\Users\\tempe\\AppData\\Roaming\\nltk_data...\n",
      "[nltk_data]   Package wordnet is already up-to-date!\n"
     ]
    },
    {
     "data": {
      "text/plain": [
       "True"
      ]
     },
     "execution_count": 3,
     "metadata": {},
     "output_type": "execute_result"
    }
   ],
   "source": [
    "nltk.download('stopwords')\n",
    "nltk.download('punkt')\n",
    "nltk.download('averaged_perceptron_tagger')\n",
    "nltk.download('wordnet')"
   ]
  },
  {
   "cell_type": "markdown",
   "id": "9cd61c50",
   "metadata": {},
   "source": [
    "### Сохраняем данные в переменную\n"
   ]
  },
  {
   "cell_type": "code",
   "execution_count": 4,
   "id": "d481752f",
   "metadata": {},
   "outputs": [],
   "source": [
    "pth1 = 'C:\\\\Dataset\\\\toxic_comments.csv'\n",
    "pth2 = '/datasets/toxic_comments.csv'\n",
    "# пути к фрейму\n",
    "\n",
    "if os.path.exists(pth1):\n",
    "    coments = pd.read_csv(pth1)\n",
    "elif os.path.exists(pth2):\n",
    "    coments = pd.read_csv(pth2)\n",
    "else:\n",
    "    print(\"Проверьте путь к датасету\")\n",
    "\n",
    "pd.set_option('display.max_columns', 50)\n",
    "\n",
    "backup = coments.copy(deep=True)\n",
    "# На всякий случай пусть будет копия"
   ]
  },
  {
   "cell_type": "markdown",
   "id": "16349126",
   "metadata": {},
   "source": [
    "### Проводим первичное исследование на предмет наличия пропусков"
   ]
  },
  {
   "cell_type": "code",
   "execution_count": 5,
   "id": "c3063d84",
   "metadata": {},
   "outputs": [
    {
     "name": "stdout",
     "output_type": "stream",
     "text": [
      "<class 'pandas.core.frame.DataFrame'>\n",
      "RangeIndex: 159292 entries, 0 to 159291\n",
      "Data columns (total 3 columns):\n",
      " #   Column      Non-Null Count   Dtype \n",
      "---  ------      --------------   ----- \n",
      " 0   Unnamed: 0  159292 non-null  int64 \n",
      " 1   text        159292 non-null  object\n",
      " 2   toxic       159292 non-null  int64 \n",
      "dtypes: int64(2), object(1)\n",
      "memory usage: 3.6+ MB\n"
     ]
    }
   ],
   "source": [
    "coments.info()"
   ]
  },
  {
   "cell_type": "code",
   "execution_count": 6,
   "id": "a7b57f02",
   "metadata": {},
   "outputs": [
    {
     "data": {
      "text/html": [
       "<div>\n",
       "<style scoped>\n",
       "    .dataframe tbody tr th:only-of-type {\n",
       "        vertical-align: middle;\n",
       "    }\n",
       "\n",
       "    .dataframe tbody tr th {\n",
       "        vertical-align: top;\n",
       "    }\n",
       "\n",
       "    .dataframe thead th {\n",
       "        text-align: right;\n",
       "    }\n",
       "</style>\n",
       "<table border=\"1\" class=\"dataframe\">\n",
       "  <thead>\n",
       "    <tr style=\"text-align: right;\">\n",
       "      <th></th>\n",
       "      <th>Unnamed: 0</th>\n",
       "      <th>text</th>\n",
       "      <th>toxic</th>\n",
       "    </tr>\n",
       "  </thead>\n",
       "  <tbody>\n",
       "    <tr>\n",
       "      <th>0</th>\n",
       "      <td>0</td>\n",
       "      <td>Explanation\\nWhy the edits made under my usern...</td>\n",
       "      <td>0</td>\n",
       "    </tr>\n",
       "    <tr>\n",
       "      <th>1</th>\n",
       "      <td>1</td>\n",
       "      <td>D'aww! He matches this background colour I'm s...</td>\n",
       "      <td>0</td>\n",
       "    </tr>\n",
       "    <tr>\n",
       "      <th>2</th>\n",
       "      <td>2</td>\n",
       "      <td>Hey man, I'm really not trying to edit war. It...</td>\n",
       "      <td>0</td>\n",
       "    </tr>\n",
       "    <tr>\n",
       "      <th>3</th>\n",
       "      <td>3</td>\n",
       "      <td>\"\\nMore\\nI can't make any real suggestions on ...</td>\n",
       "      <td>0</td>\n",
       "    </tr>\n",
       "    <tr>\n",
       "      <th>4</th>\n",
       "      <td>4</td>\n",
       "      <td>You, sir, are my hero. Any chance you remember...</td>\n",
       "      <td>0</td>\n",
       "    </tr>\n",
       "    <tr>\n",
       "      <th>5</th>\n",
       "      <td>5</td>\n",
       "      <td>\"\\n\\nCongratulations from me as well, use the ...</td>\n",
       "      <td>0</td>\n",
       "    </tr>\n",
       "    <tr>\n",
       "      <th>6</th>\n",
       "      <td>6</td>\n",
       "      <td>COCKSUCKER BEFORE YOU PISS AROUND ON MY WORK</td>\n",
       "      <td>1</td>\n",
       "    </tr>\n",
       "    <tr>\n",
       "      <th>7</th>\n",
       "      <td>7</td>\n",
       "      <td>Your vandalism to the Matt Shirvington article...</td>\n",
       "      <td>0</td>\n",
       "    </tr>\n",
       "    <tr>\n",
       "      <th>8</th>\n",
       "      <td>8</td>\n",
       "      <td>Sorry if the word 'nonsense' was offensive to ...</td>\n",
       "      <td>0</td>\n",
       "    </tr>\n",
       "    <tr>\n",
       "      <th>9</th>\n",
       "      <td>9</td>\n",
       "      <td>alignment on this subject and which are contra...</td>\n",
       "      <td>0</td>\n",
       "    </tr>\n",
       "  </tbody>\n",
       "</table>\n",
       "</div>"
      ],
      "text/plain": [
       "   Unnamed: 0                                               text  toxic\n",
       "0           0  Explanation\\nWhy the edits made under my usern...      0\n",
       "1           1  D'aww! He matches this background colour I'm s...      0\n",
       "2           2  Hey man, I'm really not trying to edit war. It...      0\n",
       "3           3  \"\\nMore\\nI can't make any real suggestions on ...      0\n",
       "4           4  You, sir, are my hero. Any chance you remember...      0\n",
       "5           5  \"\\n\\nCongratulations from me as well, use the ...      0\n",
       "6           6       COCKSUCKER BEFORE YOU PISS AROUND ON MY WORK      1\n",
       "7           7  Your vandalism to the Matt Shirvington article...      0\n",
       "8           8  Sorry if the word 'nonsense' was offensive to ...      0\n",
       "9           9  alignment on this subject and which are contra...      0"
      ]
     },
     "execution_count": 6,
     "metadata": {},
     "output_type": "execute_result"
    }
   ],
   "source": [
    "coments.head(10)"
   ]
  },
  {
   "cell_type": "markdown",
   "id": "40bea77a",
   "metadata": {},
   "source": [
    "#### Удалим знаки припинания, символы и приведем к нижнему регистру"
   ]
  },
  {
   "cell_type": "code",
   "execution_count": 7,
   "id": "fb127dd7",
   "metadata": {},
   "outputs": [],
   "source": [
    "# Первоисточник кода:\n",
    "# https://rukovodstvo.net/posts/id_939/\n",
    "\n",
    "def preprocess_text(sen): # функция очищает текст и приводит к нижнему регистру\n",
    "    # Удаление html тэгов  \n",
    "    cleared_text = re.sub(r'<[^>]+>', '', sen)\n",
    "\n",
    "    # Удаление знаков припенания и цифр \n",
    "    cleared_text = re.sub('[.!#$%&*+\"/=?^_`{|}~-]', ' ', cleared_text) \n",
    " \n",
    "    # Удаление одиночных символов \n",
    "    cleared_text = re.sub(r\"\\s+[a-zA-Z]\\s+\", ' ', cleared_text) \n",
    " \n",
    "    # Удаление нескольких пробелов\n",
    "    cleared_text = re.sub(r'\\s+', ' ', cleared_text) \n",
    "    \n",
    "    # Преведение к нижнему регистру\n",
    "    cleared_text = cleared_text.lower()    \n",
    " \n",
    "    return cleared_text "
   ]
  },
  {
   "cell_type": "code",
   "execution_count": 8,
   "id": "e80e4f10",
   "metadata": {},
   "outputs": [
    {
     "name": "stdout",
     "output_type": "stream",
     "text": [
      "CPU times: total: 13.8 s\n",
      "Wall time: 14.5 s\n"
     ]
    }
   ],
   "source": [
    "%%time\n",
    "reviews = [] \n",
    "sentences = list(coments['text']) \n",
    "\n",
    "for sen in sentences: \n",
    "    reviews.append(preprocess_text(sen)) "
   ]
  },
  {
   "cell_type": "code",
   "execution_count": 9,
   "id": "5c77e9df",
   "metadata": {},
   "outputs": [],
   "source": [
    "reviews = pd.DataFrame(reviews)\n",
    "coments['text'] = reviews[0]"
   ]
  },
  {
   "cell_type": "code",
   "execution_count": 10,
   "id": "266b4212",
   "metadata": {},
   "outputs": [
    {
     "data": {
      "text/html": [
       "<div>\n",
       "<style scoped>\n",
       "    .dataframe tbody tr th:only-of-type {\n",
       "        vertical-align: middle;\n",
       "    }\n",
       "\n",
       "    .dataframe tbody tr th {\n",
       "        vertical-align: top;\n",
       "    }\n",
       "\n",
       "    .dataframe thead th {\n",
       "        text-align: right;\n",
       "    }\n",
       "</style>\n",
       "<table border=\"1\" class=\"dataframe\">\n",
       "  <thead>\n",
       "    <tr style=\"text-align: right;\">\n",
       "      <th></th>\n",
       "      <th>Unnamed: 0</th>\n",
       "      <th>text</th>\n",
       "      <th>toxic</th>\n",
       "    </tr>\n",
       "  </thead>\n",
       "  <tbody>\n",
       "    <tr>\n",
       "      <th>0</th>\n",
       "      <td>0</td>\n",
       "      <td>explanation why the edits made under my userna...</td>\n",
       "      <td>0</td>\n",
       "    </tr>\n",
       "    <tr>\n",
       "      <th>1</th>\n",
       "      <td>1</td>\n",
       "      <td>d'aww he matches this background colour i'm se...</td>\n",
       "      <td>0</td>\n",
       "    </tr>\n",
       "    <tr>\n",
       "      <th>2</th>\n",
       "      <td>2</td>\n",
       "      <td>hey man, i'm really not trying to edit war it'...</td>\n",
       "      <td>0</td>\n",
       "    </tr>\n",
       "    <tr>\n",
       "      <th>3</th>\n",
       "      <td>3</td>\n",
       "      <td>more can't make any real suggestions on impro...</td>\n",
       "      <td>0</td>\n",
       "    </tr>\n",
       "    <tr>\n",
       "      <th>4</th>\n",
       "      <td>4</td>\n",
       "      <td>you, sir, are my hero any chance you remember ...</td>\n",
       "      <td>0</td>\n",
       "    </tr>\n",
       "    <tr>\n",
       "      <th>5</th>\n",
       "      <td>5</td>\n",
       "      <td>congratulations from me as well, use the tool...</td>\n",
       "      <td>0</td>\n",
       "    </tr>\n",
       "    <tr>\n",
       "      <th>6</th>\n",
       "      <td>6</td>\n",
       "      <td>cocksucker before you piss around on my work</td>\n",
       "      <td>1</td>\n",
       "    </tr>\n",
       "    <tr>\n",
       "      <th>7</th>\n",
       "      <td>7</td>\n",
       "      <td>your vandalism to the matt shirvington article...</td>\n",
       "      <td>0</td>\n",
       "    </tr>\n",
       "    <tr>\n",
       "      <th>8</th>\n",
       "      <td>8</td>\n",
       "      <td>sorry if the word 'nonsense' was offensive to ...</td>\n",
       "      <td>0</td>\n",
       "    </tr>\n",
       "    <tr>\n",
       "      <th>9</th>\n",
       "      <td>9</td>\n",
       "      <td>alignment on this subject and which are contra...</td>\n",
       "      <td>0</td>\n",
       "    </tr>\n",
       "  </tbody>\n",
       "</table>\n",
       "</div>"
      ],
      "text/plain": [
       "   Unnamed: 0                                               text  toxic\n",
       "0           0  explanation why the edits made under my userna...      0\n",
       "1           1  d'aww he matches this background colour i'm se...      0\n",
       "2           2  hey man, i'm really not trying to edit war it'...      0\n",
       "3           3   more can't make any real suggestions on impro...      0\n",
       "4           4  you, sir, are my hero any chance you remember ...      0\n",
       "5           5   congratulations from me as well, use the tool...      0\n",
       "6           6       cocksucker before you piss around on my work      1\n",
       "7           7  your vandalism to the matt shirvington article...      0\n",
       "8           8  sorry if the word 'nonsense' was offensive to ...      0\n",
       "9           9  alignment on this subject and which are contra...      0"
      ]
     },
     "metadata": {},
     "output_type": "display_data"
    }
   ],
   "source": [
    "display(coments.head(10))"
   ]
  },
  {
   "cell_type": "markdown",
   "id": "0d54cac6",
   "metadata": {},
   "source": [
    "#### Проверим баланс классов"
   ]
  },
  {
   "cell_type": "code",
   "execution_count": 11,
   "id": "faec5b7b",
   "metadata": {},
   "outputs": [
    {
     "data": {
      "text/plain": [
       "0    143106\n",
       "1     16186\n",
       "Name: toxic, dtype: int64"
      ]
     },
     "execution_count": 11,
     "metadata": {},
     "output_type": "execute_result"
    }
   ],
   "source": [
    "coments['toxic'].value_counts()"
   ]
  },
  {
   "cell_type": "code",
   "execution_count": 12,
   "id": "eb5cbd89",
   "metadata": {},
   "outputs": [
    {
     "data": {
      "text/plain": [
       "Unnamed: 0    0\n",
       "text          0\n",
       "toxic         0\n",
       "dtype: int64"
      ]
     },
     "execution_count": 12,
     "metadata": {},
     "output_type": "execute_result"
    }
   ],
   "source": [
    "coments.isnull().sum()"
   ]
  },
  {
   "cell_type": "markdown",
   "id": "abaaa565",
   "metadata": {},
   "source": [
    "В данных наблюдается значительный дисбаланс. При этом в рамках задачи нас интересуют именно токсичные комментарии. Поскольку именно они будут направляться на дополнительную модерацию и должны определяться достоверно. Пропусков в данных не имеется."
   ]
  },
  {
   "cell_type": "code",
   "execution_count": 13,
   "id": "59864846",
   "metadata": {},
   "outputs": [],
   "source": [
    "target_names = ['Отзыв не токсичный, [0]','Отзыв токсичный, [1]'] \n",
    "# будем использовать в графиках и при выводе сводных результатов работы моделей"
   ]
  },
  {
   "cell_type": "code",
   "execution_count": 14,
   "id": "c63d854a",
   "metadata": {},
   "outputs": [],
   "source": [
    "def pie_for_class(df): # построение графика баланса классов\n",
    "    plt.figure(figsize=(5, 5))\n",
    "\n",
    "    plt.pie(df.value_counts(normalize=True, sort=False, ascending=True),\n",
    "        labels=target_names,\n",
    "        labeldistance=1.05, wedgeprops = { 'linewidth' : 3, 'edgecolor' : 'white' });"
   ]
  },
  {
   "cell_type": "code",
   "execution_count": 15,
   "id": "53d844b1",
   "metadata": {},
   "outputs": [
    {
     "data": {
      "image/png": "[encoded data removed]",
      "text/plain": [
       "<Figure size 500x500 with 1 Axes>"
      ]
     },
     "metadata": {},
     "output_type": "display_data"
    },
    {
     "name": "stdout",
     "output_type": "stream",
     "text": [
      "CPU times: total: 234 ms\n",
      "Wall time: 278 ms\n"
     ]
    }
   ],
   "source": [
    "%%time\n",
    "pie_for_class(coments['toxic'])\n",
    "plt.title('Баланс распределения классов')\n",
    "plt.show()"
   ]
  },
  {
   "cell_type": "markdown",
   "id": "503ba931",
   "metadata": {},
   "source": [
    "#### Поделим на обучающую, валидационную и тестовую выборки с учетом дисбаланса классов"
   ]
  },
  {
   "cell_type": "code",
   "execution_count": 16,
   "id": "6b8db5ee",
   "metadata": {},
   "outputs": [],
   "source": [
    "X = coments['text']\n",
    "y = coments['toxic']\n",
    "\n",
    "train_future, y_future, train_target, y_target = train_test_split(\n",
    "    X,\n",
    "    y,\n",
    "    test_size=.2,\n",
    "    random_state=12345,\n",
    "    stratify=y\n",
    ")\n",
    "\n",
    "valid_future, test_future, valid_target, test_target = train_test_split(\n",
    "    y_future,\n",
    "    y_target,\n",
    "    test_size=.50,\n",
    "    random_state=12345,\n",
    "    stratify=y_target\n",
    ")"
   ]
  },
  {
   "cell_type": "code",
   "execution_count": 17,
   "id": "adadc8c6",
   "metadata": {},
   "outputs": [
    {
     "name": "stdout",
     "output_type": "stream",
     "text": [
      "Обучающая выборка: (127433,) (127433,)\n",
      "Валидационная выборка: (15929,) (15929,)\n",
      "Тестовая выборка: (15930,) (15930,)\n"
     ]
    }
   ],
   "source": [
    "print(\n",
    "    f'Обучающая выборка: {train_future.shape} {train_target.shape}', \n",
    "    '\\n', f'Валидационная выборка: {valid_future.shape} {valid_target.shape}',\n",
    "    '\\n',\n",
    "    f'Тестовая выборка: {test_future.shape} {test_target.shape}',\n",
    "    sep=''\n",
    ")"
   ]
  },
  {
   "cell_type": "code",
   "execution_count": 18,
   "id": "b52be233",
   "metadata": {},
   "outputs": [],
   "source": [
    "def down_up_sample(text, sample, fraction): # функция для усреднения баланса классов\n",
    "    text_zeros = text[sample == 0]\n",
    "    text_ones = text[sample == 1]\n",
    "    sample_zeros = sample[sample == 0]\n",
    "    sample_ones = sample[sample == 1]\n",
    "\n",
    "    text_down_up = pd.concat(\n",
    "        [text_zeros.sample(frac=fraction, random_state=12345)] + [text_ones]\n",
    "    )\n",
    "    sample_down_up = pd.concat(\n",
    "        [sample_zeros.sample(frac=fraction, random_state=12345)] + [sample_ones]\n",
    "    )\n",
    "    \n",
    "    text_down_up_sampled, sample_down_up_sampled = shuffle(\n",
    "        text_down_up,\n",
    "        sample_down_up,\n",
    "        random_state=12345\n",
    "    )\n",
    "    \n",
    "    return text_down_up_sampled, sample_down_up_sampled"
   ]
  },
  {
   "cell_type": "code",
   "execution_count": 19,
   "id": "1d6afb39",
   "metadata": {},
   "outputs": [],
   "source": [
    "train_future, train_target  = down_up_sample(X, y, 0.1)"
   ]
  },
  {
   "cell_type": "markdown",
   "id": "7c10cb83",
   "metadata": {},
   "source": [
    "Изменили баланс классов только на обучающей выборке, поскольку после обучения модели точно придется предсказывать по данным, в которых содержится дисбаланс классов."
   ]
  },
  {
   "cell_type": "code",
   "execution_count": 20,
   "id": "6803bd84",
   "metadata": {},
   "outputs": [
    {
     "name": "stdout",
     "output_type": "stream",
     "text": [
      "Обучающая выборка: (30497,) (30497,)\n"
     ]
    }
   ],
   "source": [
    "print(f'Обучающая выборка: {train_future.shape} {train_target.shape}')"
   ]
  },
  {
   "cell_type": "code",
   "execution_count": 21,
   "id": "ba32dc6a",
   "metadata": {},
   "outputs": [
    {
     "data": {
      "text/plain": [
       "16186"
      ]
     },
     "execution_count": 21,
     "metadata": {},
     "output_type": "execute_result"
    }
   ],
   "source": [
    "train_target.sum() # количество токсичных отзывов составляет чуть больше 50%"
   ]
  },
  {
   "cell_type": "code",
   "execution_count": 22,
   "id": "7efa06c5",
   "metadata": {},
   "outputs": [
    {
     "data": {
      "image/png": "[encoded data removed]",
      "text/plain": [
       "<Figure size 500x500 with 1 Axes>"
      ]
     },
     "metadata": {},
     "output_type": "display_data"
    },
    {
     "name": "stdout",
     "output_type": "stream",
     "text": [
      "CPU times: total: 156 ms\n",
      "Wall time: 163 ms\n"
     ]
    }
   ],
   "source": [
    "%%time\n",
    "pie_for_class(train_target)\n",
    "plt.title('Баланс распределения классов на обучающей выборке')\n",
    "plt.show()"
   ]
  },
  {
   "cell_type": "code",
   "execution_count": 23,
   "id": "68b03c17",
   "metadata": {},
   "outputs": [
    {
     "data": {
      "text/plain": [
       "159450"
      ]
     },
     "execution_count": 23,
     "metadata": {},
     "output_type": "execute_result"
    }
   ],
   "source": [
    "coments['Unnamed: 0'].max()"
   ]
  },
  {
   "cell_type": "code",
   "execution_count": 24,
   "id": "ab033777",
   "metadata": {},
   "outputs": [
    {
     "data": {
      "text/plain": [
       "(159292, 3)"
      ]
     },
     "execution_count": 24,
     "metadata": {},
     "output_type": "execute_result"
    }
   ],
   "source": [
    "coments.shape"
   ]
  },
  {
   "cell_type": "markdown",
   "id": "d096fa8a",
   "metadata": {},
   "source": [
    "Unnamed: 0\t- странный столбец. Нумерация отличается от размера фрейма. Возможно не предоставлена часть комментариев."
   ]
  },
  {
   "cell_type": "markdown",
   "id": "f87d8318",
   "metadata": {},
   "source": [
    "#### Лемматизируем текст"
   ]
  },
  {
   "cell_type": "code",
   "execution_count": 25,
   "id": "7b4bf01e",
   "metadata": {},
   "outputs": [],
   "source": [
    "stop_words = set(nltk_stopwords.words('english')) # присваем список стоп слов"
   ]
  },
  {
   "cell_type": "code",
   "execution_count": 26,
   "id": "1dd0fddf",
   "metadata": {},
   "outputs": [],
   "source": [
    "lemmatizer = WordNetLemmatizer() # инициализируем лемматизатор"
   ]
  },
  {
   "cell_type": "code",
   "execution_count": 27,
   "id": "67938041",
   "metadata": {},
   "outputs": [],
   "source": [
    "name_frame = [train_future, valid_future, test_future] # фиксируем наименования выборок"
   ]
  },
  {
   "cell_type": "code",
   "execution_count": 28,
   "id": "1792c051",
   "metadata": {},
   "outputs": [],
   "source": [
    "def get_wordnet_pos(word): # данная функция позволяет учесть разное употребление слова\n",
    "    tag = nltk.pos_tag([word])[0][1][0].upper()\n",
    "    tag_dict = {\"J\": wordnet.ADJ,\n",
    "                \"N\": wordnet.NOUN,\n",
    "                \"V\": wordnet.VERB,\n",
    "                \"R\": wordnet.ADV}\n",
    "    return tag_dict.get(tag, wordnet.NOUN)"
   ]
  },
  {
   "cell_type": "code",
   "execution_count": 29,
   "id": "272e3304",
   "metadata": {},
   "outputs": [
    {
     "data": {
      "application/vnd.jupyter.widget-view+json": {
       "model_id": "a2e199d910a947cfb7387635e47b801e",
       "version_major": 2,
       "version_minor": 0
      },
      "text/plain": [
       "  0%|          | 0/30497 [00:00<?, ?it/s]"
      ]
     },
     "metadata": {},
     "output_type": "display_data"
    },
    {
     "data": {
      "application/vnd.jupyter.widget-view+json": {
       "model_id": "b20c3ae889f2405caab73b3b45c4deeb",
       "version_major": 2,
       "version_minor": 0
      },
      "text/plain": [
       "  0%|          | 0/15929 [00:00<?, ?it/s]"
      ]
     },
     "metadata": {},
     "output_type": "display_data"
    },
    {
     "data": {
      "application/vnd.jupyter.widget-view+json": {
       "model_id": "8438ad0fe96a4fa5b16b7750be2a456b",
       "version_major": 2,
       "version_minor": 0
      },
      "text/plain": [
       "  0%|          | 0/15930 [00:00<?, ?it/s]"
      ]
     },
     "metadata": {},
     "output_type": "display_data"
    },
    {
     "name": "stdout",
     "output_type": "stream",
     "text": [
      "CPU times: total: 1h 14min 2s\n",
      "Wall time: 1h 16min 12s\n"
     ]
    }
   ],
   "source": [
    "%%time\n",
    "def lemmafunction(text): # непосредственно лематизация текста. Пропускаем стоп слова, чтобы съэкономить время\n",
    "    k=[]\n",
    "    for i in nltk.word_tokenize(text): \n",
    "        y = lemmatizer.lemmatize(i, get_wordnet_pos(i))\n",
    "        if y not in stop_words:\n",
    "            k.append(y)\n",
    "            \n",
    "    return ' '.join(k) \n",
    "\n",
    "lemma = []\n",
    "\n",
    "for n in name_frame:\n",
    "    corpus = list(n)\n",
    "    for i in tqdm(range(len(corpus))):\n",
    "    \n",
    "        lemma.append(lemmafunction(corpus[i]))\n",
    "    \n",
    "    n = pd.Series(lemma)"
   ]
  },
  {
   "cell_type": "markdown",
   "id": "3027fd7b",
   "metadata": {},
   "source": [
    "#### Добавим значения TF-IDF для слов"
   ]
  },
  {
   "cell_type": "code",
   "execution_count": 30,
   "id": "70e877cf",
   "metadata": {},
   "outputs": [],
   "source": [
    "count_tf_idf = TfidfVectorizer(\n",
    "    stop_words=stop_words,\n",
    "    analyzer='word'\n",
    ") # инициализируем функцию по подсчету TF-IDF"
   ]
  },
  {
   "cell_type": "markdown",
   "id": "ba31a19d",
   "metadata": {},
   "source": [
    "### Построим модели для предсказания токсичных комментариев"
   ]
  },
  {
   "cell_type": "markdown",
   "id": "8ee2c749",
   "metadata": {},
   "source": [
    "#### Модель логистической регрессии с подбором параметров"
   ]
  },
  {
   "cell_type": "code",
   "execution_count": 31,
   "id": "873f48fe",
   "metadata": {},
   "outputs": [],
   "source": [
    "def predict_model(model, future, target, target_names): # вычисление предсказания\n",
    "    prediction_model = model.predict(future)\n",
    "    f1_model = f1_score(target, prediction_model)\n",
    "    print(classification_report(target, prediction_model, target_names=target_names))\n",
    "    print('Метрика F1 качества предсказания модели равна :', f1_model.round(2))\n",
    "    return prediction_model, f1_model"
   ]
  },
  {
   "cell_type": "code",
   "execution_count": 32,
   "id": "5141b32c",
   "metadata": {},
   "outputs": [
    {
     "name": "stdout",
     "output_type": "stream",
     "text": [
      "F1 на обучающей выборке: 0.90\n",
      "CPU times: total: 10min 40s\n",
      "Wall time: 10min 48s\n"
     ]
    }
   ],
   "source": [
    "%%time\n",
    "\n",
    "clf_lr_pipeline = make_pipeline(\n",
    "    TfidfVectorizer(\n",
    "        stop_words=stop_words,\n",
    "        analyzer='word'\n",
    "    ), \n",
    "    LogisticRegression(\n",
    "        random_state=12345,\n",
    "        solver='liblinear',\n",
    "        class_weight='balanced'\n",
    "    )\n",
    ")\n",
    "\n",
    "\n",
    "\n",
    "parametrs_lr = {\n",
    "              'C': np.arange(2., 10.2, .3)\n",
    "              }\n",
    "\n",
    "new_params_lr = {\n",
    "    'logisticregression__' + key: parametrs_lr[key] for key in parametrs_lr\n",
    "}\n",
    "\n",
    "\n",
    "\n",
    "grid_lr = GridSearchCV(\n",
    "    clf_lr_pipeline,\n",
    "    param_grid=new_params_lr,\n",
    "    cv=5,\n",
    "    scoring='f1',\n",
    "    return_train_score=True\n",
    ")\n",
    "\n",
    "grid_lr.fit(train_future, train_target)\n",
    "\n",
    "print(\n",
    "    'F1 на обучающей выборке: {:.2f}'.format(grid_lr.best_score_)\n",
    ")"
   ]
  },
  {
   "cell_type": "code",
   "execution_count": 33,
   "id": "33856f3f",
   "metadata": {},
   "outputs": [
    {
     "data": {
      "text/plain": [
       "{'logisticregression__C': 6.499999999999997}"
      ]
     },
     "execution_count": 33,
     "metadata": {},
     "output_type": "execute_result"
    }
   ],
   "source": [
    "grid_lr.best_params_"
   ]
  },
  {
   "cell_type": "code",
   "execution_count": 34,
   "id": "473d6a8e",
   "metadata": {},
   "outputs": [
    {
     "name": "stdout",
     "output_type": "stream",
     "text": [
      "                         precision    recall  f1-score   support\n",
      "\n",
      "Отзыв не токсичный, [0]       1.00      0.92      0.96     14311\n",
      "   Отзыв токсичный, [1]       0.59      0.97      0.73      1618\n",
      "\n",
      "               accuracy                           0.93     15929\n",
      "              macro avg       0.79      0.95      0.85     15929\n",
      "           weighted avg       0.96      0.93      0.94     15929\n",
      "\n",
      "Метрика F1 качества предсказания модели равна : 0.73\n"
     ]
    }
   ],
   "source": [
    "prediction_lr_model, f1_lr_model = predict_model(\n",
    "    grid_lr,\n",
    "    valid_future,\n",
    "    valid_target,\n",
    "    target_names\n",
    ")"
   ]
  },
  {
   "cell_type": "code",
   "execution_count": 35,
   "id": "7951e7e3",
   "metadata": {},
   "outputs": [],
   "source": [
    "def predict_result(name_model, F1): # функция построения таблицы с результатами\n",
    "    x = [[name_model, F1]]\n",
    "    y = pd.DataFrame(x, columns=['model', 'F1'])\n",
    "    return y"
   ]
  },
  {
   "cell_type": "code",
   "execution_count": 36,
   "id": "c2a7ed5e",
   "metadata": {},
   "outputs": [],
   "source": [
    "frame_1 = predict_result('LogisticRegression', f1_lr_model.round(2))"
   ]
  },
  {
   "cell_type": "markdown",
   "id": "b36277e9",
   "metadata": {},
   "source": [
    "#### Модель градиентного бустинга LGBM для логистической регрессии "
   ]
  },
  {
   "cell_type": "code",
   "execution_count": 37,
   "id": "08f550e5",
   "metadata": {},
   "outputs": [
    {
     "name": "stdout",
     "output_type": "stream",
     "text": [
      "Средняя точность на текстовой выборке: 0.88\n",
      "                         precision    recall  f1-score   support\n",
      "\n",
      "Отзыв не токсичный, [0]       0.98      0.94      0.96     14311\n",
      "   Отзыв токсичный, [1]       0.63      0.86      0.73      1618\n",
      "\n",
      "               accuracy                           0.93     15929\n",
      "              macro avg       0.81      0.90      0.85     15929\n",
      "           weighted avg       0.95      0.93      0.94     15929\n",
      "\n",
      "Метрика F1 качества предсказания модели равна : 0.73\n",
      "CPU times: total: 44.4 s\n",
      "Wall time: 43.7 s\n"
     ]
    }
   ],
   "source": [
    "%%time\n",
    "#model_LGBM = LGBMClassifier(random_state=12345)\n",
    "\n",
    "LGBM_pipeline = make_pipeline(\n",
    "    TfidfVectorizer(\n",
    "        stop_words=stop_words,\n",
    "        analyzer='word'\n",
    "    ), \n",
    "    LGBMClassifier(random_state=12345)\n",
    ")\n",
    "\n",
    "\n",
    "n_scores = cross_val_score(\n",
    "    LGBM_pipeline,\n",
    "    train_future,\n",
    "    train_target,\n",
    "    scoring='f1',\n",
    "    cv=5,\n",
    "    n_jobs=-1\n",
    ")\n",
    "\n",
    "print(\n",
    "    'Средняя точность на текстовой выборке: %.2f' % (mean(n_scores))\n",
    ")\n",
    "\n",
    "LGBM_pipeline.fit(train_future, train_target)\n",
    "\n",
    "\n",
    "prediction_model_LGBM, f1_model_LGBM = predict_model(\n",
    "    LGBM_pipeline,\n",
    "    valid_future,\n",
    "    valid_target,\n",
    "    target_names\n",
    ")"
   ]
  },
  {
   "cell_type": "code",
   "execution_count": 38,
   "id": "0b92b1fe",
   "metadata": {},
   "outputs": [],
   "source": [
    "frame_2 = predict_result(\n",
    "    'LogisticRegression_LGBM', f1_model_LGBM.round(2)\n",
    ")"
   ]
  },
  {
   "cell_type": "markdown",
   "id": "a0c6998e",
   "metadata": {},
   "source": [
    "#### Модель случайного леса"
   ]
  },
  {
   "cell_type": "code",
   "execution_count": 39,
   "id": "d21a5b02",
   "metadata": {},
   "outputs": [
    {
     "name": "stdout",
     "output_type": "stream",
     "text": [
      "F1 на обучающей выборке: 0.732\n",
      "CPU times: total: 12min 11s\n",
      "Wall time: 12min 17s\n"
     ]
    }
   ],
   "source": [
    "%%time\n",
    "\n",
    "parametrs_forest_model = {\n",
    "    'n_estimators': range (1, 14, 6),\n",
    "    'max_depth': range (1, 6, 2),\n",
    "    'min_samples_leaf': range (1, 4, 2),\n",
    "    'min_samples_split': range (2, 5, 2)\n",
    "}\n",
    "\n",
    "forest_pipeline = make_pipeline(\n",
    "    TfidfVectorizer(\n",
    "        stop_words=stop_words,\n",
    "        analyzer='word'\n",
    "    ), \n",
    "    RandomForestClassifier(\n",
    "        random_state=12345,\n",
    "        class_weight='balanced'\n",
    "    )\n",
    ")\n",
    "\n",
    "new_params_forest = {\n",
    "    'randomforestclassifier__' + key: parametrs_forest_model[key]\n",
    "    for key in parametrs_forest_model\n",
    "}\n",
    "\n",
    "\n",
    "\n",
    "grid_forest = GridSearchCV(\n",
    "    forest_pipeline,\n",
    "    param_grid=new_params_forest,\n",
    "    cv=5,\n",
    "    scoring='f1',\n",
    "    return_train_score=True\n",
    ")\n",
    "\n",
    "grid_forest.fit(train_future, train_target)\n",
    "\n",
    "print(\n",
    "    'F1 на обучающей выборке: {:.3f}'.format(grid_forest.best_score_)\n",
    ")"
   ]
  },
  {
   "cell_type": "code",
   "execution_count": 40,
   "id": "e43e4b59",
   "metadata": {},
   "outputs": [
    {
     "name": "stdout",
     "output_type": "stream",
     "text": [
      "                         precision    recall  f1-score   support\n",
      "\n",
      "Отзыв не токсичный, [0]       0.96      0.53      0.68     14311\n",
      "   Отзыв токсичный, [1]       0.17      0.83      0.28      1618\n",
      "\n",
      "               accuracy                           0.56     15929\n",
      "              macro avg       0.56      0.68      0.48     15929\n",
      "           weighted avg       0.88      0.56      0.64     15929\n",
      "\n",
      "Метрика F1 качества предсказания модели равна : 0.28\n"
     ]
    }
   ],
   "source": [
    "prediction_forest_model, f1_forest_model = predict_model(\n",
    "    grid_forest,\n",
    "    valid_future,\n",
    "    valid_target,\n",
    "    target_names\n",
    ")"
   ]
  },
  {
   "cell_type": "code",
   "execution_count": 41,
   "id": "e6056308",
   "metadata": {},
   "outputs": [],
   "source": [
    "frame_3 = predict_result('RandomForestClassifier', f1_forest_model.round(2))"
   ]
  },
  {
   "cell_type": "markdown",
   "id": "cc4d37c0",
   "metadata": {},
   "source": [
    "#### Прогноз на основе простого заполнения предсказаний наиболее встречающимся классом для проверки адекватности моделей"
   ]
  },
  {
   "cell_type": "code",
   "execution_count": 42,
   "id": "502950d4",
   "metadata": {},
   "outputs": [
    {
     "name": "stdout",
     "output_type": "stream",
     "text": [
      "                         precision    recall  f1-score   support\n",
      "\n",
      "Отзыв не токсичный, [0]       0.00      0.00      0.00     14311\n",
      "   Отзыв токсичный, [1]       0.10      1.00      0.18      1618\n",
      "\n",
      "               accuracy                           0.10     15929\n",
      "              macro avg       0.05      0.50      0.09     15929\n",
      "           weighted avg       0.01      0.10      0.02     15929\n",
      "\n",
      "Метрика F1 качества предсказания модели равна : 0.18\n"
     ]
    }
   ],
   "source": [
    "warnings.simplefilter('ignore')\n",
    "\n",
    "\n",
    "dummy_pipeline = make_pipeline(\n",
    "    TfidfVectorizer(\n",
    "        stop_words=stop_words,\n",
    "        analyzer='word'\n",
    "    ), \n",
    "    DummyClassifier(strategy=\"most_frequent\")\n",
    ")\n",
    "\n",
    "dummy_pipeline.fit(train_future, train_target)\n",
    "\n",
    "prediction_dummy_clf, f1_dummy_clf = predict_model(\n",
    "    dummy_pipeline,\n",
    "    valid_future,\n",
    "    valid_target,\n",
    "    target_names\n",
    ")"
   ]
  },
  {
   "cell_type": "code",
   "execution_count": 43,
   "id": "1b6a7305",
   "metadata": {},
   "outputs": [],
   "source": [
    "frame_4 = predict_result('DummyClassifier', f1_dummy_clf.round(2))"
   ]
  },
  {
   "cell_type": "code",
   "execution_count": 44,
   "id": "f0f8b677",
   "metadata": {},
   "outputs": [
    {
     "data": {
      "text/html": [
       "<div>\n",
       "<style scoped>\n",
       "    .dataframe tbody tr th:only-of-type {\n",
       "        vertical-align: middle;\n",
       "    }\n",
       "\n",
       "    .dataframe tbody tr th {\n",
       "        vertical-align: top;\n",
       "    }\n",
       "\n",
       "    .dataframe thead th {\n",
       "        text-align: right;\n",
       "    }\n",
       "</style>\n",
       "<table border=\"1\" class=\"dataframe\">\n",
       "  <thead>\n",
       "    <tr style=\"text-align: right;\">\n",
       "      <th></th>\n",
       "      <th>model</th>\n",
       "      <th>F1</th>\n",
       "    </tr>\n",
       "  </thead>\n",
       "  <tbody>\n",
       "    <tr>\n",
       "      <th>0</th>\n",
       "      <td>LogisticRegression</td>\n",
       "      <td>0.73</td>\n",
       "    </tr>\n",
       "    <tr>\n",
       "      <th>0</th>\n",
       "      <td>LogisticRegression_LGBM</td>\n",
       "      <td>0.73</td>\n",
       "    </tr>\n",
       "    <tr>\n",
       "      <th>0</th>\n",
       "      <td>RandomForestClassifier</td>\n",
       "      <td>0.28</td>\n",
       "    </tr>\n",
       "    <tr>\n",
       "      <th>0</th>\n",
       "      <td>DummyClassifier</td>\n",
       "      <td>0.18</td>\n",
       "    </tr>\n",
       "  </tbody>\n",
       "</table>\n",
       "</div>"
      ],
      "text/plain": [
       "                     model    F1\n",
       "0       LogisticRegression  0.73\n",
       "0  LogisticRegression_LGBM  0.73\n",
       "0   RandomForestClassifier  0.28\n",
       "0          DummyClassifier  0.18"
      ]
     },
     "metadata": {},
     "output_type": "display_data"
    }
   ],
   "source": [
    "frames = [frame_1, frame_2, frame_3, frame_4]\n",
    "df_prediction = pd.concat(frames)\n",
    "display(df_prediction)"
   ]
  },
  {
   "cell_type": "markdown",
   "id": "d809aecc",
   "metadata": {},
   "source": [
    "Из-за проверки обучения на датасете с отбалансированными классами и проверке на валидационной выборке с несбалансированностью классов модель показала невысокий результат. F1 = 0.18, что значительно хуже лучшего показателя F1 = 0.74."
   ]
  },
  {
   "cell_type": "markdown",
   "id": "c419b2be",
   "metadata": {},
   "source": [
    "##### Посмотрим матрицу ошибок и вероятность предсказания токсичных комментариев для лучшей модели."
   ]
  },
  {
   "cell_type": "code",
   "execution_count": 45,
   "id": "6b290a71",
   "metadata": {},
   "outputs": [
    {
     "data": {
      "image/png": "[encoded data removed]",
      "text/plain": [
       "<Figure size 800x500 with 2 Axes>"
      ]
     },
     "metadata": {},
     "output_type": "display_data"
    }
   ],
   "source": [
    "# Первоисточник кода:\n",
    "# https://www.stackvidhya.com/plot-confusion-matrix-in-python-and-why/\n",
    "\n",
    "cnf_matrix = confusion_matrix(valid_target, prediction_lr_model)\n",
    "\n",
    "group_names = ['True Neg','False Pos','False Neg','True Pos']\n",
    "\n",
    "group_counts = [\"{0:0.0f}\".format(value) for value in\n",
    "                cnf_matrix.flatten()]\n",
    "\n",
    "group_percentages = [\"{0:.2%}\".format(value) for value in\n",
    "                     cnf_matrix.flatten()/np.sum(cnf_matrix)]\n",
    "\n",
    "labels = [f\"{v1}\\n{v2}\\n{v3}\" for v1, v2, v3 in\n",
    "          zip(group_names,group_counts,group_percentages)]\n",
    "\n",
    "labels = np.asarray(labels).reshape(2,2)\n",
    "\n",
    "plt.figure(figsize=(8, 5))\n",
    "\n",
    "ax = sns.heatmap(cnf_matrix, annot=labels, fmt='', cmap='Blues')\n",
    "\n",
    "ax.set_title('Матрица ошибок\\n\\n');\n",
    "ax.set_xlabel('\\nPredicted Values')\n",
    "ax.set_ylabel('Actual Values ');\n",
    "\n",
    "ax.xaxis.set_ticklabels(['False','True'])\n",
    "ax.yaxis.set_ticklabels(['False','True'])\n",
    "\n",
    "plt.show()"
   ]
  },
  {
   "cell_type": "code",
   "execution_count": 46,
   "id": "818f89b8",
   "metadata": {},
   "outputs": [
    {
     "name": "stdout",
     "output_type": "stream",
     "text": [
      "Вероятность положительного класса: [0.93225959 0.47736764 0.06023033 0.28545308 0.02778973]\n"
     ]
    }
   ],
   "source": [
    "probabilities = grid_lr.predict_proba(valid_future)\n",
    "probabilities_one = probabilities[:, 1]\n",
    "print(\"Вероятность положительного класса:\",probabilities_one[:5])"
   ]
  },
  {
   "cell_type": "markdown",
   "id": "39aae991",
   "metadata": {},
   "source": [
    "Большой разброс от 0.03 до 0.9. Вероятно, модель можно улушить изменением порога в сторону повышения значения точности. Таким образом мы получит большее количество верных предсказаний токсичных комментариев."
   ]
  },
  {
   "cell_type": "code",
   "execution_count": 47,
   "id": "e5f29716",
   "metadata": {},
   "outputs": [
    {
     "name": "stdout",
     "output_type": "stream",
     "text": [
      "Порог = 0.40 | Точность = 0.498, Полнота = 0.990, F1 = 0.663\n",
      "Порог = 0.42 | Точность = 0.517, Полнота = 0.988, F1 = 0.679\n",
      "Порог = 0.44 | Точность = 0.533, Полнота = 0.986, F1 = 0.692\n",
      "Порог = 0.46 | Точность = 0.552, Полнота = 0.983, F1 = 0.707\n",
      "Порог = 0.48 | Точность = 0.572, Полнота = 0.979, F1 = 0.722\n",
      "Порог = 0.50 | Точность = 0.587, Полнота = 0.973, F1 = 0.732\n",
      "Порог = 0.52 | Точность = 0.603, Полнота = 0.971, F1 = 0.744\n",
      "Порог = 0.54 | Точность = 0.618, Полнота = 0.965, F1 = 0.754\n",
      "Порог = 0.56 | Точность = 0.634, Полнота = 0.957, F1 = 0.763\n",
      "Порог = 0.58 | Точность = 0.654, Полнота = 0.952, F1 = 0.776\n",
      "Порог = 0.60 | Точность = 0.675, Полнота = 0.948, F1 = 0.788\n",
      "Порог = 0.62 | Точность = 0.696, Полнота = 0.940, F1 = 0.800\n",
      "Порог = 0.64 | Точность = 0.711, Полнота = 0.928, F1 = 0.805\n",
      "Порог = 0.66 | Точность = 0.725, Полнота = 0.915, F1 = 0.809\n",
      "Порог = 0.68 | Точность = 0.741, Полнота = 0.907, F1 = 0.816\n",
      "Порог = 0.70 | Точность = 0.756, Полнота = 0.895, F1 = 0.819\n",
      "Порог = 0.72 | Точность = 0.768, Полнота = 0.884, F1 = 0.822\n",
      "Порог = 0.74 | Точность = 0.779, Полнота = 0.866, F1 = 0.820\n",
      "Порог = 0.76 | Точность = 0.791, Полнота = 0.847, F1 = 0.818\n",
      "Порог = 0.78 | Точность = 0.805, Полнота = 0.826, F1 = 0.815\n",
      "Порог = 0.80 | Точность = 0.816, Полнота = 0.802, F1 = 0.809\n",
      "Порог = 0.82 | Точность = 0.829, Полнота = 0.772, F1 = 0.800\n",
      "Порог = 0.84 | Точность = 0.841, Полнота = 0.740, F1 = 0.787\n",
      "Порог = 0.86 | Точность = 0.857, Полнота = 0.711, F1 = 0.777\n",
      "Порог = 0.88 | Точность = 0.869, Полнота = 0.685, F1 = 0.766\n"
     ]
    }
   ],
   "source": [
    "for threshold in np.arange(0.4, 0.9, 0.02):\n",
    "    predicted_v = probabilities_one > threshold\n",
    "    precision = precision_score(valid_target,predicted_v)\n",
    "    recall = recall_score(valid_target,predicted_v) \n",
    "    f1 = f1_score(valid_target,predicted_v)\n",
    "    print(\n",
    "        \"Порог = {:.2f} | Точность = {:.3f}, Полнота = {:.3f}, F1 = {:.3f}\".format(\n",
    "            threshold,\n",
    "            precision,\n",
    "            recall,\n",
    "            f1\n",
    "        )\n",
    "    )"
   ]
  },
  {
   "cell_type": "markdown",
   "id": "62a7fb2d",
   "metadata": {},
   "source": [
    "##### Построим кривую точности-полноты"
   ]
  },
  {
   "cell_type": "code",
   "execution_count": 48,
   "id": "ce448f17",
   "metadata": {},
   "outputs": [
    {
     "data": {
      "image/png": "[encoded data removed]",
      "text/plain": [
       "<Figure size 700x700 with 1 Axes>"
      ]
     },
     "metadata": {},
     "output_type": "display_data"
    }
   ],
   "source": [
    "precision, recall, thresholds = precision_recall_curve(\n",
    "    valid_target,\n",
    "    probabilities[:, 1]\n",
    ")\n",
    "plt.figure(figsize=(7, 7))\n",
    "plt.step(recall, precision, where='post')\n",
    "plt.xlabel('Recall')\n",
    "plt.ylabel('Precision')\n",
    "plt.ylim([0.0, 1.02])\n",
    "plt.xlim([0.0, 1.02])\n",
    "plt.title('Кривая Precision-Recall')\n",
    "plt.show() "
   ]
  },
  {
   "cell_type": "markdown",
   "id": "09a56ac8",
   "metadata": {},
   "source": [
    "Визуально кажется, что оптимальный порог находится на значении, превышающем 0.72. Проверим."
   ]
  },
  {
   "cell_type": "code",
   "execution_count": 49,
   "id": "6e53e79d",
   "metadata": {},
   "outputs": [
    {
     "name": "stdout",
     "output_type": "stream",
     "text": [
      "                         precision    recall  f1-score   support\n",
      "\n",
      "Отзыв не токсичный, [0]       0.99      0.97      0.98     14311\n",
      "   Отзыв токсичный, [1]       0.77      0.88      0.82      1618\n",
      "\n",
      "               accuracy                           0.96     15929\n",
      "              macro avg       0.88      0.93      0.90     15929\n",
      "           weighted avg       0.96      0.96      0.96     15929\n",
      "\n"
     ]
    }
   ],
   "source": [
    "predicted_rf_threshold = (probabilities_one > .72)*1\n",
    "print(\n",
    "    classification_report(\n",
    "        valid_target,\n",
    "        predicted_rf_threshold,\n",
    "        target_names=target_names\n",
    "    )\n",
    ")"
   ]
  },
  {
   "cell_type": "code",
   "execution_count": 50,
   "id": "559c9e21",
   "metadata": {},
   "outputs": [
    {
     "name": "stdout",
     "output_type": "stream",
     "text": [
      "Валидационный F1 : 0.82 (порог: 0.72)\n"
     ]
    }
   ],
   "source": [
    "prediction_lr_model_vt = (grid_lr.predict_proba(valid_future)[:,1] > .72)*1\n",
    "f1_lr_model_vt = f1_score(valid_target, prediction_lr_model_vt)\n",
    "\n",
    "print(\n",
    "    'Валидационный F1 : {:.2f} (порог: 0.72)'.format(f1_lr_model_vt))"
   ]
  },
  {
   "cell_type": "code",
   "execution_count": 51,
   "id": "1407a6b5",
   "metadata": {},
   "outputs": [
    {
     "data": {
      "image/png": "[encoded data removed]",
      "text/plain": [
       "<Figure size 800x500 with 2 Axes>"
      ]
     },
     "metadata": {},
     "output_type": "display_data"
    }
   ],
   "source": [
    "cnf_matrix = confusion_matrix(valid_target, predicted_rf_threshold)\n",
    "\n",
    "group_names = ['True Neg','False Pos','False Neg','True Pos']\n",
    "\n",
    "group_counts = [\"{0:0.0f}\".format(value) for value in\n",
    "                cnf_matrix.flatten()]\n",
    "\n",
    "group_percentages = [\"{0:.2%}\".format(value) for value in\n",
    "                     cnf_matrix.flatten()/np.sum(cnf_matrix)]\n",
    "\n",
    "labels = [f\"{v1}\\n{v2}\\n{v3}\" for v1, v2, v3 in\n",
    "          zip(group_names,group_counts,group_percentages)]\n",
    "\n",
    "labels = np.asarray(labels).reshape(2,2)\n",
    "\n",
    "plt.figure(figsize=(8, 5))\n",
    "\n",
    "ax = sns.heatmap(cnf_matrix, annot=labels, fmt='', cmap='Blues')\n",
    "\n",
    "ax.set_title('Матрица ошибок\\n\\n');\n",
    "ax.set_xlabel('\\nPredicted Values')\n",
    "ax.set_ylabel('Actual Values ');\n",
    "\n",
    "ax.xaxis.set_ticklabels(['False','True'])\n",
    "ax.yaxis.set_ticklabels(['False','True'])\n",
    "\n",
    "plt.show()"
   ]
  },
  {
   "cell_type": "markdown",
   "id": "1d5524e9",
   "metadata": {},
   "source": [
    "<a id='tag_1'></a>"
   ]
  },
  {
   "cell_type": "markdown",
   "id": "40c98b50",
   "metadata": {},
   "source": [
    "### Мы в некоторой степени пожертвовали точностью предсказания токсичных комментариев, чтобы в токсичные не попадало большое количество обычных комментариев. \n",
    "\n",
    "Количество токсичных комментариев, отнесенных к обычных увеличилось с 3% от общего количества токсичных комментариев, до 11%. Однако удалось снизить количество нейтральных комментариев, отнесенных к токсичным с 40% до 20%.\n",
    "\n",
    "В первом случае мы выявляем большее количиство токсичных комментариев, во втором обработке подлежит меньшее количество комментариев."
   ]
  },
  {
   "cell_type": "markdown",
   "id": "035e171a",
   "metadata": {},
   "source": [
    "### Проверим лучшую модель на тестовой выборке"
   ]
  },
  {
   "cell_type": "code",
   "execution_count": 52,
   "id": "88c27f0f",
   "metadata": {},
   "outputs": [
    {
     "name": "stdout",
     "output_type": "stream",
     "text": [
      "Тестовый F1: 0.80\n"
     ]
    }
   ],
   "source": [
    "prediction_lr_model_t = (grid_lr.predict_proba(test_future)[:,1] > .62)*1\n",
    "f1_lr_model_t = f1_score(\n",
    "    test_target,\n",
    "    prediction_lr_model_t\n",
    ")\n",
    "\n",
    "print('Тестовый F1: {:.2f}'.format(f1_lr_model_t))"
   ]
  },
  {
   "cell_type": "markdown",
   "id": "9d4ab846",
   "metadata": {},
   "source": [
    "#### Рассчитаем значение ROC-AUC и визуализируем его"
   ]
  },
  {
   "cell_type": "code",
   "execution_count": 53,
   "id": "1766a27d",
   "metadata": {},
   "outputs": [
    {
     "name": "stdout",
     "output_type": "stream",
     "text": [
      "ROC-AUC: 0.95\n"
     ]
    }
   ],
   "source": [
    "fpr, tpr, thresholds = roc_curve(\n",
    "    test_target,\n",
    "    prediction_lr_model_t\n",
    ")\n",
    "auc_roc = roc_auc_score(\n",
    "    test_target,\n",
    "    prediction_lr_model_t\n",
    ")\n",
    "print('ROC-AUC: {:.2f}'.format(auc_roc))"
   ]
  },
  {
   "cell_type": "code",
   "execution_count": 54,
   "id": "26a5b528",
   "metadata": {},
   "outputs": [
    {
     "data": {
      "image/png": "[encoded data removed]",
      "text/plain": [
       "<Figure size 700x700 with 1 Axes>"
      ]
     },
     "metadata": {},
     "output_type": "display_data"
    }
   ],
   "source": [
    "plt.figure(figsize=(7,7))\n",
    "plt.plot(fpr, tpr,linewidth=2)\n",
    "plt.plot([0, 1], [0, 1], linestyle='--',linewidth=2)\n",
    "plt.xlim([-0.01, 1.01])\n",
    "plt.ylim([-0.01, 1.01])\n",
    "plt.text(0.2,0.65,'ROC-AUC = {:.2f}'.format(auc_roc))\n",
    "plt.xlabel('False Positive Rate')\n",
    "plt.ylabel('True Positive Rate')\n",
    "plt.title('ROC-кривая')\n",
    "plt.show()"
   ]
  },
  {
   "cell_type": "markdown",
   "id": "95c24a6b",
   "metadata": {},
   "source": [
    "Исходя из площади под кривой можно сделать вывод, что модель работает хорошо."
   ]
  },
  {
   "cell_type": "markdown",
   "id": "a2522e1e",
   "metadata": {},
   "source": [
    "**Заключение:**\n",
    "\n",
    "В рамках проекта обучена модель логистической регрессии с целевым значение заданной метрики:\n",
    "- Обучающая выборка **F1 = 0.9**\n",
    "- Валидационная выборка **F1 = 0.82**\n",
    "- Тестовая выборка **F1 = 0.8**\n",
    "\n",
    "При этом **можно [добиться](#tag_1) более точных предсказаний** токсичных комментариев. \n",
    "\n",
    "На валидационной выборке этот показатель можно поднять с 89% до 96%. \n",
    "\n",
    "Однако это приведет к менее точному предсказанию нейтральных комментариев и увеличению количества комментариев, представляемому на модерацию. \n",
    "\n",
    "Как следствие целевая метрика F1 снизится до 0.74."
   ]
  },
  {
   "cell_type": "code",
   "execution_count": null,
   "id": "2f33f931",
   "metadata": {},
   "outputs": [],
   "source": []
  }
 ],
 "metadata": {
  "ExecuteTimeLog": [
   {
    "duration": 1133,
    "start_time": "2022-12-16T08:36:38.827Z"
   }
  ],
  "kernelspec": {
   "display_name": "Python 3 (ipykernel)",
   "language": "python",
   "name": "python3"
  },
  "language_info": {
   "codemirror_mode": {
    "name": "ipython",
    "version": 3
   },
   "file_extension": ".py",
   "mimetype": "text/x-python",
   "name": "python",
   "nbconvert_exporter": "python",
   "pygments_lexer": "ipython3",
   "version": "3.9.15"
  },
  "toc": {
   "base_numbering": 1,
   "nav_menu": {},
   "number_sections": true,
   "sideBar": true,
   "skip_h1_title": true,
   "title_cell": "Table of Contents",
   "title_sidebar": "Contents",
   "toc_cell": false,
   "toc_position": {},
   "toc_section_display": true,
   "toc_window_display": false
  }
 },
 "nbformat": 4,
 "nbformat_minor": 5
}
